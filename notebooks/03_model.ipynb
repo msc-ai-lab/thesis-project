{
 "cells": [
  {
   "cell_type": "markdown",
   "id": "48eb5cd6",
   "metadata": {},
   "source": [
    "# Skin Cancer Detection using Deep Learning\n",
    "This Jupyter notebook demonstrates how to build a deep learning model for skin cancer detection using the Xception architecture. The model classifies skin lesion images as either benign or malignant.\n",
    "\n",
    "## Prerequisites\n",
    "\n",
    "### Experiments\n",
    "This project utilises Weights & Biases (wandb) to experiment various model configurations. To perform experiments with different configurations, you need to follow the following steps first:\n",
    "\n",
    "- Create a wandb account at [wandb.ai](https://wandb.ai) if you don't have one yet\n",
    "- Get your Wandb API key from your account settings\n",
    "- Add your Wandb API key in the `.env` file with the key `WANDB_API_KEY`\n",
    "- If the `.env` file doesn't exist, copy the `.env.example` file to create `.env` and replace the placeholder with your actual API key\n",
    "\n",
    "### Environment Setup\n",
    "Install the required packages from `requirements.txt` file.\n",
    "\n",
    "### Notebook Structure\n",
    "This notebook is organized into the following sections:\n",
    "- Import Libraries - Required Python packages for the project\n",
    "- Constants - Define paths and other constants\n",
    "- Load Metadata - Load and explore the updated metadata\n",
    "- Split Training and Testing Set - Prepare data splits\n",
    "- Prepare Dataset - Custom dataset class for loading images\n",
    "- Data Augmentation - Apply transformations to improve model generalization\n",
    "- Create Data Loaders - Batch data loading for training\n",
    "- Train the Model - Functions for model training and validation\n",
    "- Save/Load the Model - Utilities to persist trained models\n",
    "- Test the Model - Evaluate model performance\n",
    "- Experiments - Run training with specific configurations"
   ]
  },
  {
   "cell_type": "markdown",
   "id": "04a25985",
   "metadata": {},
   "source": [
    "## Import Libraries"
   ]
  },
  {
   "cell_type": "code",
   "execution_count": 1,
   "id": "0bc9c11d",
   "metadata": {},
   "outputs": [
    {
     "name": "stderr",
     "output_type": "stream",
     "text": [
      "c:\\Users\\dango\\OneDrive - UWE Bristol\\projects\\thesis-project\\venv\\lib\\site-packages\\tqdm\\auto.py:21: TqdmWarning: IProgress not found. Please update jupyter and ipywidgets. See https://ipywidgets.readthedocs.io/en/stable/user_install.html\n",
      "  from .autonotebook import tqdm as notebook_tqdm\n"
     ]
    }
   ],
   "source": [
    "# Standard library imports\n",
    "import os\n",
    "import sys\n",
    "from pathlib import Path\n",
    "\n",
    "# Third-party imports\n",
    "import numpy as np\n",
    "import pandas as pd\n",
    "import matplotlib.pyplot as plt\n",
    "import seaborn as sns\n",
    "from dotenv import load_dotenv\n",
    "\n",
    "from sklearn.utils.class_weight import compute_class_weight\n",
    "from sklearn.metrics import classification_report, confusion_matrix, roc_auc_score\n",
    "\n",
    "import torch\n",
    "import torch.nn as nn\n",
    "import torch.optim as optim\n",
    "from torch.utils.data import TensorDataset, DataLoader\n",
    "\n",
    "from tqdm import tqdm\n",
    "import wandb\n",
    "from wandb.sdk.wandb_run import Run\n",
    "\n",
    "# Local imports\n",
    "root_path = Path.cwd().parent\n",
    "sys.path.append(root_path.as_posix())\n",
    "from utils.common import get_model, load_datasets"
   ]
  },
  {
   "cell_type": "markdown",
   "id": "ffbe63bb",
   "metadata": {},
   "source": [
    "## Constants"
   ]
  },
  {
   "cell_type": "code",
<<<<<<< Updated upstream
   "execution_count": 2,
=======
   "execution_count": null,
>>>>>>> Stashed changes
   "id": "54a73123",
   "metadata": {},
   "outputs": [],
   "source": [
    "num_classes = 2 # Malignant and Benign\n",
    "random_state = 42\n",
    "model_type = 'Xception'\n",
    "\n",
    "# Define paths\n",
<<<<<<< Updated upstream
    "root_path = Path.cwd().parent\n",
=======
>>>>>>> Stashed changes
    "model_dir = root_path / 'models' \n",
    "\n",
    "# Set device\n",
    "device = torch.device('cuda' if torch.cuda.is_available() else 'cpu')"
   ]
  },
  {
   "cell_type": "markdown",
   "id": "bc68e450",
   "metadata": {},
   "source": [
    "## Load Datasets"
   ]
  },
  {
   "cell_type": "code",
<<<<<<< Updated upstream
   "execution_count": null,
=======
   "execution_count": 3,
>>>>>>> Stashed changes
   "id": "4268802e",
   "metadata": {},
   "outputs": [],
   "source": [
<<<<<<< Updated upstream
    "processed_data_path = root_path / 'data' / 'processed' / 'mal_augmented'\n",
    "\n",
    "# Load the saved datasets\n",
    "train_data = torch.load(processed_data_path / model_type / 'train_dataset.pt')\n",
    "val_data = torch.load(processed_data_path / model_type / 'val_dataset.pt')\n",
    "test_data = torch.load(processed_data_path / model_type / 'test_dataset.pt')\n",
    "\n",
    "# Extract images and labels\n",
    "train_images, train_labels = train_data['images'], train_data['labels']\n",
    "val_images, val_labels = val_data['images'], val_data['labels']\n",
    "test_images, test_labels = test_data['images'], test_data['labels']\n",
    "\n",
    "# Create TensorDataset objects\n",
    "train_tensor_dataset = TensorDataset(train_images, train_labels)\n",
    "val_tensor_dataset = TensorDataset(val_images, val_labels)\n",
    "test_tensor_dataset = TensorDataset(test_images, test_labels)\n",
=======
    "processed_data_path = root_path / 'data' / 'processed' / 'augmented' / model_type\n",
    "train_tensor_dataset, val_tensor_dataset, test_tensor_dataset = load_datasets(processed_data_path)\n",
>>>>>>> Stashed changes
    "\n",
    "# Create DataLoader objects\n",
    "batch_size = 32\n",
    "train_loader = DataLoader(train_tensor_dataset, batch_size=batch_size, shuffle=True)\n",
    "val_loader = DataLoader(val_tensor_dataset, batch_size=batch_size, shuffle=False)\n",
    "test_loader = DataLoader(test_tensor_dataset, batch_size=batch_size, shuffle=False)"
   ]
  },
  {
   "cell_type": "markdown",
   "id": "33eb2e4f",
   "metadata": {},
   "source": [
    "## Get Environment Variables"
   ]
  },
  {
   "cell_type": "code",
   "execution_count": 4,
   "id": "244726d6",
   "metadata": {},
   "outputs": [],
   "source": [
    "# Load environment variables\n",
    "load_dotenv()\n",
    "WANDB_API_KEY = os.getenv('WANDB_API_KEY')\n",
    "WANDB_ENTITY = os.getenv('WANDB_ENTITY')\n",
    "WANDB_PROJECT = os.getenv('WANDB_PROJECT')"
   ]
  },
  {
   "cell_type": "markdown",
   "id": "8d760451",
   "metadata": {},
   "source": [
    "## Train the Model"
   ]
  },
  {
   "cell_type": "markdown",
   "id": "a68fdaeb",
   "metadata": {},
   "source": [
    "### Train Epoch\n",
    "\n",
    "The `train_epoch` function handles one complete training cycle through all batches in the training dataset. It tracks key metrics and reports them to Weights & Biases if an experiment run is provided for logging, enabling experiment tracking and visualisation."
   ]
  },
  {
   "cell_type": "code",
   "execution_count": 5,
   "id": "8e640903",
   "metadata": {},
   "outputs": [],
   "source": [
    "def train_epoch(model: nn.Module, train_loader: DataLoader, criterion: nn.Module, optimiser: torch.optim.Optimizer, epochs: int, current_epoch: int, wandb_run: Run = None, phase: str = 'Training') -> tuple:\n",
    "    \"\"\"\n",
    "    Train the model for one epoch.\n",
    "\n",
    "    Parameters\n",
    "    ----------\n",
    "    model : nn.Module\n",
    "        The model to train.\n",
    "    train_loader : DataLoader\n",
    "        DataLoader for the training dataset.\n",
    "    criterion : nn.Module\n",
    "        Loss function to compute the loss.\n",
    "    optimiser : torch.optim.Optimizer\n",
    "        Optimiser for updating model weights.\n",
    "    epochs : int\n",
    "        Total number of epochs for training.\n",
    "    current_epoch : int\n",
    "        Current epoch number.\n",
    "    wandb_run : Run, optional\n",
    "        Weights & Biases run object for logging metrics. Defaults to None.\n",
    "    phase : str, optional\n",
    "        Phase of training, e.g., 'Training' or 'Fine-tuning'. Defaults to 'Training\n",
    "    \n",
    "    Returns\n",
    "    -------\n",
    "    tuple\n",
    "        A tuple containing the mean loss and accuracy for the epoch.\n",
    "    \"\"\"\n",
    "    # Set the model to training mode\n",
    "    model.train()\n",
    "\n",
    "    # Initialize variables to track loss and accuracy\n",
    "    running_loss = 0.0\n",
    "    correct = 0\n",
    "    total = 0\n",
    "\n",
    "    # Create progress bar for this epoch\n",
    "    train_pbar = tqdm(train_loader, desc=f\"Epoch [{current_epoch+1}/{epochs}]\", ncols=120)\n",
    "    \n",
    "    # Training loop\n",
    "    for i, (images, labels) in enumerate(train_pbar):\n",
    "        # Move data to device\n",
    "        images, labels = images.to(device), labels.to(device)\n",
    "        \n",
    "        # Zero gradients\n",
    "        optimiser.zero_grad()\n",
    "        \n",
    "        # Forward pass\n",
    "        outputs = model(images)\n",
    "        logits = outputs.logits if hasattr(outputs, 'logits') else outputs\n",
    "        \n",
    "        # Compute loss\n",
    "        loss = criterion(logits, labels)\n",
    "        \n",
    "        # Back propagation\n",
    "        loss.backward()\n",
    "        \n",
    "        # Update weights\n",
    "        optimiser.step()\n",
    "        \n",
    "        # Update statistics\n",
    "        running_loss += loss.item()\n",
    "        mean_loss = running_loss / (i + 1)\n",
    "        \n",
    "        # Calculate accuracy\n",
    "        _, predicted = torch.max(logits.data, 1)\n",
    "        total += labels.size(0)\n",
    "        correct += (predicted == labels).sum().item()\n",
    "        accuracy = 100 * correct / total\n",
    "\n",
    "        # Log metrics to Weights & Biases\n",
    "        if wandb_run:\n",
    "            wandb_run.log({\n",
    "                'train_loss': mean_loss,\n",
    "                'train_accuracy': accuracy,\n",
    "                'epoch': current_epoch + 1,\n",
    "                'phase': phase\n",
    "            })\n",
    "\n",
    "        # Update progress bar with training metrics    \n",
    "        train_pbar.set_postfix({\n",
    "            'loss': f'{mean_loss:.4f}', \n",
    "            'acc': f'{accuracy:.2f}%',\n",
    "        })\n",
    "    \n",
    "    # Return the mean loss and accuracy for the epoch\n",
    "    return mean_loss, accuracy"
   ]
  },
  {
   "cell_type": "markdown",
   "id": "c12445bd",
   "metadata": {},
   "source": [
    "### Validate Epoch\n",
    "\n",
    "The `validate_epoch` function evaluates the model's performance on validation data during training. It measures metrics like loss, accuracy, and ROC AUC score to track how well the model generalizes to unseen data. This function is crucial for monitoring model performance, detecting overfitting, and determining when to stop training or adjust hyperparameters."
   ]
  },
  {
   "cell_type": "code",
   "execution_count": 6,
   "id": "ac60905d",
   "metadata": {},
   "outputs": [],
   "source": [
    "def validate_epoch(model: nn.Module, val_loader: DataLoader, criterion: nn.Module, epoch: int, wandb_run: Run = None, phase:str = 'Validation') -> tuple:\n",
    "    \"\"\"\n",
    "    Validate the model for one epoch.\n",
    "\n",
    "    Parameters\n",
    "    ----------\n",
    "    model : nn.Module\n",
    "        The model to validate.\n",
    "    val_loader : DataLoader\n",
    "        DataLoader for the validation dataset.\n",
    "    criterion : nn.Module\n",
    "        Loss function to compute the loss.\n",
    "    epoch : int\n",
    "        Current epoch number.\n",
    "    wandb_run : Run, optional\n",
    "        Weights & Biases run object for logging metrics. Defaults to None.\n",
    "    phase : str, optional\n",
    "        Phase of validation, e.g., 'Validation' or 'Testing'. Defaults to 'Validation'.\n",
    "    \n",
    "    Returns\n",
    "    -------\n",
    "    tuple\n",
    "        A tuple containing the average validation loss and accuracy.\n",
    "    \"\"\"\n",
    "    # Set the model to evaluation mode\n",
    "    model.eval()\n",
    "\n",
    "    # Initialize variables to track loss and accuracy\n",
    "    val_loss = 0.0\n",
    "    val_correct = 0\n",
    "    val_total = 0\n",
    "    all_labels = []\n",
    "    all_preds = []\n",
    "\n",
    "    # Create progress bar for validation\n",
    "    val_pbar = tqdm(val_loader, desc=phase, ncols=120)\n",
    "\n",
    "    # Disable gradient calculation for validation\n",
    "    with torch.no_grad():\n",
    "        # Validation loop\n",
    "        for images, labels in val_pbar:\n",
    "            # Move data to device\n",
    "            images, labels = images.to(device), labels.to(device)\n",
    "\n",
    "            # Forward pass\n",
    "            outputs = model(images)\n",
    "            logits = outputs.logits if hasattr(outputs, 'logits') else outputs\n",
    "\n",
    "            # Collect labels and predictions for ROC_AUC Score\n",
    "            loss = criterion(logits, labels)\n",
    "            val_loss += loss.item()\n",
    "\n",
    "            # Calculate accuracy\n",
    "            _, predicted = torch.max(logits.data, 1)\n",
    "            val_total += labels.size(0)\n",
    "            val_correct += (predicted == labels).sum().item()\n",
    "\n",
    "            avg_val_loss = val_loss / len(val_loader)\n",
    "            val_accuracy = 100 * val_correct / val_total\n",
    "\n",
    "            # Collect labels and predictions for ROC_AUC Score\n",
    "            all_labels.append(labels)\n",
    "            all_preds.append(predicted)\n",
    "\n",
    "            # Update progress bar with validation metrics\n",
    "            val_pbar.set_postfix({\n",
    "                'val_loss': f'{avg_val_loss:.4f}', \n",
    "                'val_acc': f'{val_accuracy:.2f}%'\n",
    "            })\n",
    "    \n",
    "    # Calculate average loss, accuracy, and ROC_AUC Score\n",
    "    avg_val_loss = val_loss / len(val_loader)\n",
    "    val_accuracy = 100 * val_correct / val_total\n",
    "    auc = roc_auc_score(\n",
    "        np.concatenate(all_labels), \n",
    "        np.concatenate(all_preds)\n",
    "    )\n",
    "\n",
    "    # Log validation metrics\n",
    "    if wandb_run:\n",
    "        log_dict = {\n",
    "            f'{phase.lower()}_loss': avg_val_loss,\n",
    "            f'{phase.lower()}_accuracy': val_accuracy,\n",
    "            f'{phase.lower()}_auc': auc,\n",
    "            'epoch': epoch + 1,\n",
    "            'phase': phase\n",
    "        }\n",
    "        wandb_run.log(log_dict)\n",
    "    \n",
    "    # Return average validation loss and accuracy\n",
    "    return avg_val_loss, val_accuracy"
   ]
  },
  {
   "cell_type": "code",
   "execution_count": 7,
   "id": "d1eb25a9",
   "metadata": {},
   "outputs": [],
   "source": [
    "class FocalLoss(nn.Module):\n",
    "    def __init__(self, alpha=None, gamma=2.0, reduction='mean'):\n",
    "        \"\"\"\n",
    "        alpha: scalar or tensor of shape (num_classes,) for class weights\n",
    "        gamma: focusing parameter\n",
    "        reduction: 'mean', 'sum', or 'none'\n",
    "        \"\"\"\n",
    "        super(FocalLoss, self).__init__()\n",
    "        self.alpha = alpha\n",
    "        self.gamma = gamma\n",
    "        self.reduction = reduction\n",
    "\n",
    "    def forward(self, inputs, targets):\n",
    "        \"\"\"\n",
    "        inputs: [batch_size, num_classes] - raw logits\n",
    "        targets: [batch_size] - ground truth class labels\n",
    "        \"\"\"\n",
    "        ce_loss = nn.functional.cross_entropy(inputs, targets, reduction='none')\n",
    "        pt = torch.exp(-ce_loss)\n",
    "\n",
    "        if self.alpha is not None:\n",
    "            if isinstance(self.alpha, (list, torch.Tensor)):\n",
    "                alpha_t = torch.tensor(self.alpha).to(inputs.device) if not isinstance(self.alpha, torch.Tensor) else self.alpha.to(inputs.device)\n",
    "                alpha_factor = alpha_t.gather(0, targets)\n",
    "            else:\n",
    "                alpha_factor = torch.full_like(pt, self.alpha)\n",
    "        else:\n",
    "            alpha_factor = torch.ones_like(pt)\n",
    "\n",
    "        focal_loss = alpha_factor * (1 - pt) ** self.gamma * ce_loss\n",
    "\n",
    "        if self.reduction == 'mean':\n",
    "            return focal_loss.mean()\n",
    "        elif self.reduction == 'sum':\n",
    "            return focal_loss.sum()\n",
    "        else:\n",
    "            return focal_loss"
   ]
  },
  {
   "cell_type": "markdown",
   "id": "acbad3cc",
   "metadata": {},
   "source": [
    "### Fine-Tuning\n",
    "\n",
    "Fine-tuning is a critical technique in transfer learning where we take a pre-trained model and selectively retrain some of its layers to adapt it to our specific task. The `fine_tuning()` function implements this technique for skin cancer classification by:\n",
    "\n",
    "1. **Selective Layer Freezing**: The function freezes early layers of the Xception model that have learned general visual features, while unfreezing later layers (blocks 11, 12, conv3, conv4, and fc) to allow adaptation to skin lesion characteristics.\n",
    "\n",
    "2. **Differential Learning Rates**: The function applies smaller learning rates to the middle layers and a higher learning rate (10x) to the final classification layer, enabling fine-grained parameter updates according to each layer's role.\n",
    "\n",
    "3. **Early Stopping**: Training automatically stops when validation loss fails to improve for a specified number of epochs, preventing overfitting and saving computational resources.\n",
    "\n",
    "This approach leverages the general feature extraction capabilities already learned by the model from ImageNet while specializing the deeper layers for distinguishing between benign and malignant skin lesions, achieving better performance than either training from scratch or using the pre-trained model without adaptation."
   ]
  },
  {
   "cell_type": "code",
   "execution_count": 8,
   "id": "4ffdce3d",
   "metadata": {},
   "outputs": [],
   "source": [
    "def fine_tuning(model: nn.Module, train_loader: DataLoader, val_loader: DataLoader, criterion: nn.Module, epochs: int = 5, patience: int = 5, learning_rate: float = 1e-4, wandb_run: Run = None) -> None:\n",
    "    \"\"\"\n",
    "    Fine-tune the model on the training dataset with early stopping.\n",
    "\n",
    "    Parameters\n",
    "    ----------\n",
    "    model : nn.Module\n",
    "        The pre-trained model to fine-tune.\n",
    "    train_loader : DataLoader\n",
    "        DataLoader for the training dataset.\n",
    "    val_loader : DataLoader\n",
    "        DataLoader for the validation dataset.\n",
    "    criterion : nn.Module\n",
    "        Loss function to compute the loss.\n",
    "    epochs : int, optional\n",
    "        Number of epochs for fine-tuning. Defaults to 10.\n",
    "    patience : int, optional\n",
    "        Number of epochs with no improvement after which training will be stopped. Defaults to 5.\n",
    "    learning_rate : float, optional\n",
    "        Learning rate for the optimizer. Defaults to 1e-4.\n",
    "    wandb_run : Run, optional\n",
    "        Weights & Biases run object for logging metrics. Defaults to None.\n",
    "    \"\"\"\n",
    "    # Initialise the best validation loss and counter for fine-tuning\n",
    "    best_val_loss = float('inf')\n",
    "    counter = 0\n",
    "\n",
    "    # Freeze all layers except the last few blocks for fine-tuning\n",
    "    if model_type == 'Xception':\n",
    "        for name, param in model.named_parameters():\n",
    "            if any(layer in name for layer in ['block11', 'block12', 'conv3', 'conv4', 'fc']):\n",
    "                param.requires_grad = True\n",
    "            else:\n",
    "                param.requires_grad = False\n",
    "\n",
    "        # Define a new optimizer for fine-tuning\n",
    "        optimiser = torch.optim.Adam([\n",
    "            {\"params\": model.block11.parameters(), \"lr\": learning_rate},\n",
    "            {\"params\": model.block12.parameters(), \"lr\": learning_rate},\n",
    "            {\"params\": model.conv3.parameters(), \"lr\": learning_rate},\n",
    "            {\"params\": model.conv4.parameters(), \"lr\": learning_rate},\n",
    "            {\"params\": model.fc.parameters(), \"lr\": learning_rate * 10}\n",
    "        ])\n",
    "    elif model_type == 'ViT':\n",
    "        for name, param in model.named_parameters():\n",
    "            if any(layer in name for layer in [\n",
    "                'vit.encoder.layer.10', \n",
    "                'vit.encoder.layer.11', \n",
    "                'classifier'\n",
    "            ]):\n",
    "                param.requires_grad = True\n",
    "            else:\n",
    "                param.requires_grad = False\n",
    "        \n",
    "        optimiser = torch.optim.Adam([\n",
    "            {\"params\": model.vit.encoder.layer[10].parameters(), \"lr\": learning_rate},\n",
    "            {\"params\": model.vit.encoder.layer[11].parameters(), \"lr\": learning_rate},\n",
    "            {\"params\": model.classifier.parameters(), \"lr\": learning_rate * 10}\n",
    "        ])\n",
    "\n",
    "    # Fine-tuning loop with early stopping\n",
    "    for epoch in range(epochs):\n",
    "        _, _ = train_epoch(model, train_loader, criterion, optimiser, epochs, wandb_run=wandb_run, current_epoch=epoch, phase='Fine-tuning')\n",
    "        val_loss, _ = validate_epoch(model, val_loader, criterion, epochs, wandb_run=wandb_run, phase='Fine-tuning Validation')\n",
    "\n",
    "        # Early Stopping\n",
    "        if val_loss < best_val_loss:\n",
    "            best_val_loss = val_loss\n",
    "            counter = 0\n",
    "        else:\n",
    "            counter += 1\n",
    "            if counter >= patience:\n",
    "                print(\"Early stopping triggered.\")\n",
    "                break"
   ]
  },
  {
   "cell_type": "markdown",
   "id": "05011bfb",
   "metadata": {},
   "source": [
    "### Train Model\n",
    "\n",
    "The `train_model()` function orchestrates the entire training process for skin cancer classification models. This function:\n",
    "\n",
    "1. **Model Preparation**:\n",
    "  - Moves the model to the appropriate device (CPU/GPU)\n",
    "  - Initializes the Adam optimizer with the specified learning rate\n",
    "\n",
    "2. **Loss Function Configuration**:\n",
    "  - Optionally applies class weighting to address dataset imbalance\n",
    "  - Uses CrossEntropyLoss or can be configured to use FocalLoss\n",
    "\n",
    "3. **Training Process Management**:\n",
    "  - Implements early stopping to prevent overfitting\n",
    "  - Tracks best validation performance\n",
    "  - Logs metrics to Weights & Biases for experiment tracking\n",
    "\n",
    "4. **Fine-tuning Support**:\n",
    "  - Optionally enables fine-tuning after initial training\n",
    "  - Uses a selective layer unfreezing approach with differential learning rates\n",
    "\n",
    "The function provides a comprehensive framework for training deep learning models on skin lesion datasets, with flexibility for experimenting with various training strategies and hyperparameters."
   ]
  },
  {
   "cell_type": "code",
   "execution_count": 9,
   "id": "212905c8",
   "metadata": {},
   "outputs": [],
   "source": [
    "def train_model(model: nn.Module, train_loader: DataLoader, val_loader: DataLoader, epochs: int = 5, learning_rate: float = 1e-3, fine_tune: bool = False, use_class_weights: bool = True, wandb_run: Run = None) -> None:\n",
    "    \"\"\"\n",
    "    Train the model with feature extraction and optional fine-tuning.\n",
    "\n",
    "    Parameters\n",
    "    ----------\n",
    "    model : nn.Module\n",
    "        The model to train.\n",
    "    train_loader : DataLoader\n",
    "        DataLoader for the training dataset.\n",
    "    val_loader : DataLoader\n",
    "        DataLoader for the validation dataset.\n",
    "    epochs : int, optional\n",
    "        Number of epochs to train the model. Defaults to 5.\n",
    "    learning_rate : float, optional\n",
    "        Learning rate for the optimizer. Defaults to 1e-3.\n",
    "    fine_tune : bool, optional\n",
    "        Whether to fine-tune the model after feature extraction. Defaults to False.\n",
    "    use_class_weights : bool, optional\n",
    "        Whether to use class weights in the loss function. Defaults to True.\n",
    "    wandb_run : Run, optional\n",
    "        Weights & Biases run object for logging metrics. Defaults to None.\n",
    "    \"\"\"\n",
    "    \n",
    "    # Set the device for training\n",
    "    device = torch.device('cuda' if torch.cuda.is_available() else 'cpu')\n",
    "\n",
    "    # Move model to device\n",
    "    model = model.to(device)\n",
    "\n",
    "    # Initialise the optimiser\n",
    "    optimiser = optim.Adam(model.parameters(), lr=learning_rate)\n",
    "\n",
    "    # Set up early stopping parameters\n",
    "    patience = 5\n",
    "    best_val_loss = float('inf')\n",
    "    counter = 0\n",
    "\n",
    "    # Check if class weights should be used\n",
    "    if use_class_weights:\n",
    "        # Extract labels from the train_loader\n",
    "        all_labels = []\n",
    "        for _, labels in train_loader:\n",
    "            all_labels.append(labels.cpu().numpy())\n",
    "        train_labels = np.concatenate(all_labels)\n",
    "\n",
    "        # Compute class weights using the labels\n",
    "        class_weights = compute_class_weight('balanced', classes=np.unique(train_labels), y=train_labels)\n",
    "        class_weights = torch.tensor(class_weights, dtype=torch.float).to(device)\n",
    "\n",
    "        # Define the loss function with class weights\n",
    "        criterion = nn.CrossEntropyLoss(weight=class_weights)\n",
    "        # criterion = FocalLoss(alpha=class_weights, gamma=2.0, reduction='mean')\n",
    "    else:\n",
    "        # Define the loss function without class weights\n",
    "        criterion = nn.CrossEntropyLoss()\n",
    "        # criterion = FocalLoss(alpha=1.0, gamma=2.0, reduction='mean')\n",
    "    \n",
    "    criterion = criterion.to(device)\n",
    "\n",
    "    if fine_tune:\n",
    "        for param in model.parameters():\n",
    "            param.requires_grad = False\n",
    "\n",
    "        for param in model.classifier.parameters():\n",
    "            param.requires_grad = True\n",
    "\n",
    "    # Training loop\n",
    "    for epoch in range(epochs):\n",
    "        _, _ = train_epoch(model, train_loader, criterion, optimiser, epochs, current_epoch=epoch, wandb_run=wandb_run)\n",
    "        val_loss, _ = validate_epoch(model, val_loader, criterion, epochs, wandb_run=wandb_run)  \n",
    "\n",
    "        # Early Stopping\n",
    "        if val_loss < best_val_loss:\n",
    "            best_val_loss = val_loss\n",
    "            counter = 0\n",
    "        else:\n",
    "            counter += 1\n",
    "            if counter >= patience:\n",
    "                print(\"Early stopping triggered.\")\n",
    "                break\n",
    "\n",
    "\n",
    "    # Fine-tuning the model\n",
    "    if fine_tune:\n",
    "        print('\\n' + '#' * 50)\n",
    "        print(\"Starting fine-tuning...\")\n",
    "        print('#' * 50, '\\n')\n",
    "\n",
    "        fine_tuning(\n",
    "            model, \n",
    "            train_loader, \n",
    "            val_loader, \n",
    "            criterion, \n",
    "            epochs=epochs, \n",
    "            patience=patience, \n",
    "            learning_rate=learning_rate, \n",
    "            wandb_run=wandb_run\n",
    "        )"
   ]
  },
  {
   "cell_type": "markdown",
   "id": "cdc6ce98",
   "metadata": {},
   "source": [
    "## Save the Model\n",
    "\n",
    "The `save_model()` function persists trained deep learning models to disk for future use. It ensures that models are preserved after training, allowing for later inference without retraining. The function:"
   ]
  },
  {
   "cell_type": "code",
   "execution_count": 10,
   "id": "4a513ccb",
   "metadata": {},
   "outputs": [],
   "source": [
    "def save_model_weights(model: nn.Module, model_dir: str, model_name: str) -> None:\n",
    "    \"\"\"\n",
    "    Save the trained model to the specified directory.\n",
    "\n",
    "    Parameters\n",
    "    ----------\n",
    "    model : nn.Module\n",
    "        The trained model to save.\n",
    "    model_dir : str\n",
    "        Directory where the model will be saved.\n",
    "    model_name : str\n",
    "        Name of the model file to save (e.g., 'model.pth').\n",
    "    \"\"\"\n",
    "    # Ensure the model directory exists\n",
    "    if not os.path.exists(model_dir):\n",
    "        os.makedirs(model_dir)\n",
    "    model_path = Path(model_dir) / model_name\n",
    "\n",
    "    # Save the model state dictionary\n",
    "    torch.save(model.state_dict(), model_path)\n",
    "    print(f\"Model saved to {model_path}\")"
   ]
  },
  {
   "cell_type": "markdown",
   "id": "e27557a5",
   "metadata": {},
   "source": [
    "## Load the Model\n",
    "\n",
    "The `load_model()` function restores a previously trained model from disk for inference or further training. This enables model reuse without retraining, which is especially valuable for computationally expensive deep learning models.\n"
   ]
  },
  {
   "cell_type": "code",
   "execution_count": 11,
   "id": "4db06b8e",
   "metadata": {},
   "outputs": [],
   "source": [
    "def load_model(model: nn.Module, model_path: str) -> nn.Module:\n",
    "    \"\"\"\n",
    "    Load the pre-trained model weights.\n",
    "\n",
    "    Parameters\n",
    "    ----------\n",
    "    model : nn.Module\n",
    "        The model architecture to load weights into.\n",
    "    model_path : str\n",
    "        Path to the saved model weights.\n",
    "\n",
    "    Returns\n",
    "    -------\n",
    "    nn.Module\n",
    "        The model with loaded weights.\n",
    "    \"\"\"\n",
    "    # Check if the model path exists\n",
    "    if not os.path.exists(model_path):\n",
    "        raise FileNotFoundError(f\"Model file not found at {model_path}\")\n",
    "    \n",
    "    # Load the model state dictionary\n",
    "    model.load_state_dict(torch.load(model_path))\n",
    "\n",
    "    # Move the model to the appropriate device and return\n",
    "    return model.to(device)"
   ]
  },
  {
   "cell_type": "markdown",
   "id": "e241a4ee",
   "metadata": {},
   "source": [
    "## Test the Model\n",
    "\n",
    "The `test_model()` function evaluates the performance of a trained deep learning model on unseen data. This function:\n",
    "\n",
    "1. **Performs Inference on Test Data**:\n",
    "  - Sets the model to evaluation mode to disable dropout and batch normalisation updates\n",
    "  - Processes the test dataset batch by batch\n",
    "  - Collects model predictions and ground truth labels\n",
    "\n",
    "2. **Calculates Performance Metrics**:\n",
    "  - Classification report with precision, recall, and F1-score for each class\n",
    "  - Confusion matrix to visualise true positives, false positives, true negatives, and false negatives\n",
    "  - ROC AUC score to evaluate the model's discriminative ability\n",
    "\n",
    "3. **Visualization and Reporting**:\n",
    "  - Generates a visual heatmap of the confusion matrix\n",
    "  - Formats and prints classification metrics for easy interpretation\n",
    "\n",
    "4. **Optional Experiment Tracking**:\n",
    "  - When provided with a Weights & Biases run object, logs all metrics and visualisations\n",
    "  - Supports detailed experiment comparison and model versioning\n",
    "\n",
    "This comprehensive evaluation helps determine the model's effectiveness at identifying malignant skin lesions and provides insights for potential improvements.\n",
    "\n"
   ]
  },
  {
   "cell_type": "code",
   "execution_count": 12,
   "id": "f47093bf",
   "metadata": {},
   "outputs": [],
   "source": [
    "def test_model(model: nn.Module, test_loader: DataLoader, wandb_run: Run = None) -> None:\n",
    "    \"\"\"\n",
    "    Test the model on the test dataset and log results.\n",
    "\n",
    "    Parameters\n",
    "    ----------\n",
    "    model : nn.Module\n",
    "        The trained model to evaluate.\n",
    "    test_loader : DataLoader\n",
    "        DataLoader for the test dataset.\n",
    "    wandb_run : Run, optional\n",
    "        Weights & Biases run object for logging. Defaults to None.\n",
    "    \"\"\"\n",
    "    # Initialize lists to store predictions and labels\n",
    "    all_preds = []\n",
    "    all_labels = []\n",
    "\n",
    "    # Evaluate the model on the test set\n",
    "    model.eval()\n",
    "    with torch.no_grad():\n",
    "        # Loop through the test set\n",
    "        for images, labels in test_loader:\n",
    "            # Move data to device\n",
    "            images, labels = images.to(device), labels.to(device)\n",
    "\n",
    "            # Forward pass\n",
    "            outputs = model(images)\n",
    "            logits = outputs.logits if hasattr(outputs, 'logits') else outputs\n",
    "\n",
    "            # Get predictions\n",
    "            preds = torch.argmax(logits, dim=1)\n",
    "\n",
    "            # Store predictions and labels\n",
    "            all_preds.extend(preds.cpu().numpy())\n",
    "            all_labels.extend(labels.cpu().numpy())\n",
    "\n",
    "    # Classification report\n",
    "    print(classification_report(all_labels, all_preds, target_names=['Benign', 'Malignant']))\n",
    "\n",
    "    # Compute confusion matrix\n",
    "    cm = confusion_matrix(all_labels, all_preds)\n",
    "\n",
    "    # Compute ROC_AUC Score\n",
    "    auc = roc_auc_score(all_labels, all_preds) \n",
    "    print('ROC AUC Score:', auc)\n",
    "\n",
    "    # Calculate accuracy\n",
    "    test_accuracy = 100 * np.mean(np.array(all_preds) == np.array(all_labels))\n",
    "    print(f'Test Accuracy: {test_accuracy:.2f}%')\n",
    "\n",
    "    # Log confusion matrix to Weights & Biases\n",
    "    if wandb_run:\n",
    "        wandb_run.log({\n",
    "            'classification_report': wandb.Table(dataframe=pd.DataFrame(classification_report(all_labels, all_preds, target_names=['Benign', 'Malignant'], output_dict=True)).transpose()),\n",
    "            'confusion_matrix': wandb.plot.confusion_matrix(\n",
    "                probs=None,\n",
    "                y_true=all_labels,\n",
    "                preds=all_preds,\n",
    "                class_names=['Benign', 'Malignant']\n",
    "            ),\n",
    "            'accuracy': test_accuracy,\n",
    "            'roc_auc_score': auc\n",
    "        })\n",
    "\n",
    "    # Plot confusion matrix\n",
    "    plt.figure(figsize=(8, 6))\n",
    "    sns.heatmap(cm, annot=True, fmt='d', cmap='Blues', \n",
    "                xticklabels=['Benign', 'Malignant'],\n",
    "                yticklabels=['Benign', 'Malignant'])\n",
    "    plt.xlabel('Predicted')\n",
    "    plt.ylabel('True label')\n",
    "    plt.title('Confusion Matrix')\n",
    "    plt.show()"
   ]
  },
  {
   "cell_type": "markdown",
   "id": "b1cd5c1b",
   "metadata": {},
   "source": [
    "## Create an Experiment\n",
    "\n",
    "The `create_wandb_experiment()` function integrates our skin cancer detection model with Weights & Biases (W&B) for experiment tracking. This function:\n",
    "\n",
    "1. **Initialises W&B Experiment**: Creates a new experiment run with the provided name\n",
    "2. **Configures Experiment Parameters**: Registers hyperparameters and settings in the W&B dashboard\n",
    "3. **Establishes Project Context**: Links the experiment to our skin cancer detection project\n",
    "4. **Handles Authentication**: Uses the API key from environment variables to access W&B services\n",
    "5. **Returns Control Object**: Provides a run object for logging metrics throughout model training\n",
    "\n",
    "This integration enables systematic tracking of model performance, visualisation of results, and comparison of different experimental configurations, which is essential for methodical research in deep learning applications for medical image analysis."
   ]
  },
  {
   "cell_type": "code",
   "execution_count": 13,
   "id": "61aeea9f",
   "metadata": {},
   "outputs": [],
   "source": [
    "def create_wandb_experiment(name:str, config: dict) -> Run:\n",
    "    \"\"\"\n",
    "    Function to create experiment to log the model and metrics to Weights & Biases.\n",
    "\n",
    "    Parameters\n",
    "    ----------\n",
    "    name : str\n",
    "        Name of the experiment run.\n",
    "    config : dict\n",
    "        Configuration dictionary containing hyperparameters and other settings.\n",
    "    \n",
    "    Returns\n",
    "    -------\n",
    "    wandb.run : Run\n",
    "        A Weights & Biases run object for logging metrics and artifacts.\n",
    "    \"\"\"\n",
    "\n",
    "    return wandb.init(\n",
    "        # Set the wandb entity and project name\n",
    "        entity=WANDB_ENTITY,\n",
    "        project=WANDB_PROJECT,\n",
    "\n",
    "        # Set the name of the run\n",
    "        name=name,\n",
    "\n",
    "        # Set the configuration for the run\n",
    "        config=config,\n",
    "    )"
   ]
  },
  {
   "cell_type": "markdown",
   "id": "db0b9b75",
   "metadata": {},
   "source": [
    "## Experiments\n",
    "\n",
    "The `experiment()` function allows us to systematically run experiments with different configurations of our skin cancer detection model. Using this function, we can:\n",
    "\n",
    "1. **Optimise Hyperparameters**\n",
    "  - Experiment with learning rates, batch sizes, and training epochs\n",
    "  - Test the effects of class weighting for handling dataset imbalance\n",
    "\n",
    "2. **Compare Training Approaches**\n",
    "  - Evaluate the impact of fine-tuning versus feature extraction\n",
    "  - Assess different model architectures for skin cancer classification\n",
    "\n",
    "3. **Track Performance Metrics**\n",
    "  - All experiments are logged to Weights & Biases for visualisation and comparison\n",
    "  - Performance is evaluated using accuracy, loss, and ROC AUC scores\n",
    "\n",
    "This systematic experimentation approach helps identify the optimal model configuration for skin cancer detection, balancing accuracy, generalisation, and computational efficiency."
   ]
  },
  {
   "cell_type": "code",
   "execution_count": 14,
   "id": "aff05f69",
   "metadata": {},
   "outputs": [],
   "source": [
    "def experiment(model: nn.Module, data_loaders: tuple, hyperparameters: dict = {}, experiment_name: str = 'experiment', save_model: bool = False, save_model_as: str = 'model.pth') -> None:\n",
    "    \"\"\"\n",
    "    Main function to run the skin cancer classification experiment.\n",
    "\n",
    "    Parameters\n",
    "    ----------\n",
    "    model: nn.Module\n",
    "        Model to experiment with\n",
    "    data_loaders : tuple\n",
    "        Tuple containing DataLoader objects for training, validation, and testing datasets.\n",
    "    hyperparameters : dict, optional\n",
    "        Dictionary containing hyperparameters for training. Defaults to an empty dictionary.\n",
    "    experiment_name : str, optional\n",
    "        Name of the experiment for logging purposes. Defaults to 'experiment'.\n",
    "    save_model : bool, optional\n",
    "        Whether to save the trained model. Defaults to False.\n",
    "    save_model_as : str, optional\n",
    "        Name of the file to save the model as. Defaults to 'model.pth'.\n",
    "    \"\"\"\n",
    "    # Create a Weights & Biases experiment\n",
    "    run = create_wandb_experiment(\n",
    "        name=experiment_name,\n",
    "        config=hyperparameters\n",
    "    )\n",
    "\n",
    "    # Unpack the data loaders\n",
    "    train_loader, val_loader, test_loader = data_loaders\n",
    "\n",
    "    # Train the model\n",
    "    print('#' * 50)\n",
    "    print(\"Training the model...\")\n",
    "    print('#' * 50, '\\n')\n",
    "    train_model(\n",
    "        model=model,\n",
    "        train_loader=train_loader,\n",
    "        val_loader=val_loader,\n",
    "        epochs=hyperparameters['epochs'],\n",
    "        learning_rate=hyperparameters['learning_rate'],\n",
    "        use_class_weights=hyperparameters['use_class_weights'],\n",
    "        fine_tune=hyperparameters['fine_tune'],\n",
    "        wandb_run=run,\n",
    "    )\n",
    "\n",
    "    # Test the model\n",
    "    print('\\n\\n' + '#' * 50)\n",
    "    print(\"Testing the model...\")\n",
    "    print('#' * 50, '\\n')\n",
    "    test_model(\n",
    "        model=model,\n",
    "        test_loader=test_loader,\n",
    "        wandb_run=run\n",
    "    )\n",
    "\n",
    "    # Save the model\n",
    "    if save_model:\n",
    "        print('#' * 50)\n",
    "        print(\"Saving the model...\\n\")\n",
    "        print('#' * 50, '\\n')\n",
    "        save_model_weights(\n",
    "            model=model,\n",
    "            model_dir=model_dir,\n",
    "            model_name=save_model_as\n",
    "        )\n",
    "    \n",
    "    # Finish the Weights & Biases run\n",
    "    run.finish()"
   ]
  },
  {
   "cell_type": "markdown",
   "id": "c9767780",
   "metadata": {},
   "source": [
    "## Initialise Model"
   ]
  },
  {
   "cell_type": "code",
   "execution_count": 15,
   "id": "a116e00c",
   "metadata": {},
   "outputs": [
    {
     "name": "stderr",
     "output_type": "stream",
     "text": [
<<<<<<< Updated upstream
      "c:\\Users\\dango\\OneDrive - UWE Bristol\\projects\\thesis-project\\venv\\lib\\site-packages\\timm\\models\\_factory.py:138: UserWarning: Mapping deprecated model name xception to current legacy_xception.\n",
      "  model = create_fn(\n"
=======
      "Some weights of ViTForImageClassification were not initialized from the model checkpoint at google/vit-base-patch16-224 and are newly initialized because the shapes did not match:\n",
      "- classifier.bias: found shape torch.Size([1000]) in the checkpoint and torch.Size([2]) in the model instantiated\n",
      "- classifier.weight: found shape torch.Size([1000, 768]) in the checkpoint and torch.Size([2, 768]) in the model instantiated\n",
      "You should probably TRAIN this model on a down-stream task to be able to use it for predictions and inference.\n"
>>>>>>> Stashed changes
     ]
    }
   ],
   "source": [
    "# Initialise the model\n",
<<<<<<< Updated upstream
    "if 'Xception' in model_type:\n",
    "    model = timm.create_model('xception', pretrained=True)\n",
    "    model.fc = nn.Linear(model.fc.in_features, num_classes)\n",
    "elif 'ViT' in model_type:\n",
    "    processor = AutoImageProcessor.from_pretrained(\"google/vit-base-patch16-224\")\n",
    "    model = AutoModelForImageClassification.from_pretrained(\n",
    "        \"google/vit-base-patch16-224\",\n",
    "        num_labels=num_classes,\n",
    "        ignore_mismatched_sizes=True,\n",
    "        attn_implementation=\"sdpa\"\n",
    "    )\n"
=======
    "model = get_model(model_type, num_classes=num_classes)"
>>>>>>> Stashed changes
   ]
  },
  {
   "cell_type": "markdown",
   "id": "77d99ec5",
   "metadata": {
    "vscode": {
     "languageId": "ruby"
    }
   },
   "source": [
    "# Model Architecture Analysis\n",
    "\n",
    "In this section, we analyse the architecture of our pre-trained models for skin cancer detection with various configurations."
   ]
  },
  {
   "cell_type": "code",
   "execution_count": 16,
   "id": "64202f14",
   "metadata": {},
   "outputs": [
    {
     "name": "stderr",
     "output_type": "stream",
     "text": [
      "\u001b[34m\u001b[1mwandb\u001b[0m: Currently logged in as: \u001b[33mavishekdangol\u001b[0m (\u001b[33mthe_lab\u001b[0m) to \u001b[32mhttps://api.wandb.ai\u001b[0m. Use \u001b[1m`wandb login --relogin`\u001b[0m to force relogin\n"
     ]
    },
    {
     "data": {
      "text/html": [
<<<<<<< Updated upstream
       "Waiting for wandb.init()..."
=======
       "Tracking run with wandb version 0.21.0"
>>>>>>> Stashed changes
      ],
      "text/plain": [
       "<IPython.core.display.HTML object>"
      ]
     },
     "metadata": {},
     "output_type": "display_data"
    },
    {
     "data": {
      "text/html": [
<<<<<<< Updated upstream
       "Tracking run with wandb version 0.21.0"
=======
       "Run data is saved locally in <code>c:\\Users\\dango\\OneDrive - UWE Bristol\\projects\\thesis-project\\notebooks\\wandb\\run-20250712_130500-ujft0960</code>"
>>>>>>> Stashed changes
      ],
      "text/plain": [
       "<IPython.core.display.HTML object>"
      ]
     },
     "metadata": {},
     "output_type": "display_data"
    },
    {
     "data": {
      "text/html": [
<<<<<<< Updated upstream
       "Run data is saved locally in <code>c:\\Users\\dango\\OneDrive - UWE Bristol\\projects\\thesis-project\\notebooks\\wandb\\run-20250708_105226-lhsj5kcd</code>"
      ],
      "text/plain": [
       "<IPython.core.display.HTML object>"
      ]
     },
     "metadata": {},
     "output_type": "display_data"
    },
    {
     "data": {
      "text/html": [
       "Syncing run <strong><a href='https://wandb.ai/the_lab/skin_cancer_detection/runs/lhsj5kcd' target=\"_blank\">base_strata_aug_Xception-class_weights</a></strong> to <a href='https://wandb.ai/the_lab/skin_cancer_detection' target=\"_blank\">Weights & Biases</a> (<a href='https://wandb.me/developer-guide' target=\"_blank\">docs</a>)<br>"
=======
       "Syncing run <strong><a href='https://wandb.ai/the_lab/skin_cancer_detection/runs/ujft0960' target=\"_blank\">ViT-strata-aug-class_weights</a></strong> to <a href='https://wandb.ai/the_lab/skin_cancer_detection' target=\"_blank\">Weights & Biases</a> (<a href='https://wandb.me/developer-guide' target=\"_blank\">docs</a>)<br>"
>>>>>>> Stashed changes
      ],
      "text/plain": [
       "<IPython.core.display.HTML object>"
      ]
     },
     "metadata": {},
     "output_type": "display_data"
    },
    {
     "data": {
      "text/html": [
       " View project at <a href='https://wandb.ai/the_lab/skin_cancer_detection' target=\"_blank\">https://wandb.ai/the_lab/skin_cancer_detection</a>"
      ],
      "text/plain": [
       "<IPython.core.display.HTML object>"
      ]
     },
     "metadata": {},
     "output_type": "display_data"
    },
    {
     "data": {
      "text/html": [
<<<<<<< Updated upstream
       " View run at <a href='https://wandb.ai/the_lab/skin_cancer_detection/runs/lhsj5kcd' target=\"_blank\">https://wandb.ai/the_lab/skin_cancer_detection/runs/lhsj5kcd</a>"
=======
       " View run at <a href='https://wandb.ai/the_lab/skin_cancer_detection/runs/ujft0960' target=\"_blank\">https://wandb.ai/the_lab/skin_cancer_detection/runs/ujft0960</a>"
>>>>>>> Stashed changes
      ],
      "text/plain": [
       "<IPython.core.display.HTML object>"
      ]
     },
     "metadata": {},
     "output_type": "display_data"
    },
    {
     "name": "stdout",
     "output_type": "stream",
     "text": [
      "##################################################\n",
      "Training the model...\n",
      "################################################## \n",
      "\n"
     ]
    },
    {
     "name": "stderr",
     "output_type": "stream",
     "text": [
<<<<<<< Updated upstream
      "Epoch [1/5]: 100%|█████████████████████████████████████████████| 50/50 [16:34<00:00, 19.89s/it, loss=0.6400, acc=66.54%]\n",
      "Validation: 100%|████████████████████████████████████████| 5/5 [00:20<00:00,  4.15s/it, val_loss=0.7740, val_acc=49.62%]\n",
      "Epoch [2/5]: 100%|█████████████████████████████████████████████| 50/50 [21:58<00:00, 26.38s/it, loss=0.4930, acc=80.98%]\n",
      "Validation: 100%|████████████████████████████████████████| 5/5 [00:23<00:00,  4.63s/it, val_loss=0.9189, val_acc=58.02%]\n",
      "Epoch [3/5]: 100%|█████████████████████████████████████████████| 50/50 [14:14<00:00, 17.09s/it, loss=0.4660, acc=80.47%]\n",
      "Validation: 100%|████████████████████████████████████████| 5/5 [00:21<00:00,  4.23s/it, val_loss=0.6226, val_acc=70.23%]\n",
      "Epoch [4/5]: 100%|█████████████████████████████████████████████| 50/50 [13:31<00:00, 16.24s/it, loss=0.3435, acc=87.40%]\n",
      "Validation: 100%|████████████████████████████████████████| 5/5 [00:20<00:00,  4.19s/it, val_loss=0.6837, val_acc=70.23%]\n",
      "Epoch [5/5]: 100%|█████████████████████████████████████████████| 50/50 [17:09<00:00, 20.60s/it, loss=0.3209, acc=87.60%]\n",
      "Validation: 100%|████████████████████████████████████████| 5/5 [00:22<00:00,  4.49s/it, val_loss=1.9683, val_acc=78.63%]\n"
=======
      "Epoch [1/5]: 100%|█████████████████████████████████████████████| 50/50 [14:22<00:00, 17.25s/it, loss=0.4735, acc=76.46%]\n",
      "Validation: 100%|████████████████████████████████████████| 5/5 [00:25<00:00,  5.14s/it, val_loss=0.6261, val_acc=77.86%]\n",
      "Epoch [2/5]: 100%|█████████████████████████████████████████████| 50/50 [14:14<00:00, 17.09s/it, loss=0.0962, acc=97.14%]\n",
      "Validation: 100%|████████████████████████████████████████| 5/5 [00:27<00:00,  5.44s/it, val_loss=0.7504, val_acc=80.92%]\n",
      "Epoch [3/5]: 100%|█████████████████████████████████████████████| 50/50 [14:47<00:00, 17.74s/it, loss=0.0073, acc=99.87%]\n",
      "Validation: 100%|████████████████████████████████████████| 5/5 [00:27<00:00,  5.43s/it, val_loss=1.3832, val_acc=82.44%]\n",
      "Epoch [4/5]: 100%|████████████████████████████████████████████| 50/50 [14:42<00:00, 17.65s/it, loss=0.0029, acc=100.00%]\n",
      "Validation: 100%|████████████████████████████████████████| 5/5 [00:27<00:00,  5.41s/it, val_loss=1.1843, val_acc=80.92%]\n",
      "Epoch [5/5]: 100%|█████████████████████████████████████████████| 50/50 [13:42<00:00, 16.45s/it, loss=0.0126, acc=99.43%]\n",
      "Validation: 100%|████████████████████████████████████████| 5/5 [00:26<00:00,  5.22s/it, val_loss=0.7811, val_acc=73.28%]\n"
>>>>>>> Stashed changes
     ]
    },
    {
     "name": "stdout",
     "output_type": "stream",
     "text": [
      "\n",
      "\n",
      "##################################################\n",
      "Testing the model...\n",
      "################################################## \n",
      "\n",
      "              precision    recall  f1-score   support\n",
      "\n",
<<<<<<< Updated upstream
      "      Benign       0.79      0.94      0.86        98\n",
      "   Malignant       0.62      0.29      0.40        34\n",
      "\n",
      "    accuracy                           0.77       132\n",
      "   macro avg       0.71      0.62      0.63       132\n",
      "weighted avg       0.75      0.77      0.74       132\n",
      "\n",
      "ROC AUC Score: 0.6164465786314526\n",
      "Test Accuracy: 77.27%\n"
=======
      "      Benign       0.85      0.67      0.75        98\n",
      "   Malignant       0.41      0.65      0.50        34\n",
      "\n",
      "    accuracy                           0.67       132\n",
      "   macro avg       0.63      0.66      0.62       132\n",
      "weighted avg       0.73      0.67      0.69       132\n",
      "\n",
      "ROC AUC Score: 0.6602641056422569\n",
      "Test Accuracy: 66.67%\n"
>>>>>>> Stashed changes
     ]
    },
    {
     "data": {
<<<<<<< Updated upstream
      "image/png": "iVBORw0KGgoAAAANSUhEUgAAAoAAAAIjCAYAAACTRapjAAAAOnRFWHRTb2Z0d2FyZQBNYXRwbG90bGliIHZlcnNpb24zLjEwLjMsIGh0dHBzOi8vbWF0cGxvdGxpYi5vcmcvZiW1igAAAAlwSFlzAAAPYQAAD2EBqD+naQAASclJREFUeJzt3Qd8FNX68PFnAiTUQKgB6b0XQZGiWEBELtIsKCpNEaUXUe6lCIIgFhAREQuIUhQV7CCCgiAgICDSkUhvgoRmQsm+n+f47v6zIWCC2cxmz+97P3Ozc2YyczbczX3yPOeccTwej0cAAABgjTC3OwAAAID0RQAIAABgGQJAAAAAyxAAAgAAWIYAEAAAwDIEgAAAAJYhAAQAALAMASAAAIBlCAABAAAsQwAI4Ip27Nght99+u+TOnVscx5F58+al6fV///13c91p06al6XUzsptvvtlsABAoBIBABvDbb7/JY489JqVLl5asWbNKZGSkNGjQQF555RX566+/AnrvDh06yMaNG2XUqFHy3nvvSZ06dSRUdOzY0QSf+vNM7ueowa8e1+3FF19M9fUPHDggzzzzjKxfvz6NegwAaSNzGl0HQIB8+eWXcs8990hERIQ8/PDDUrVqVTl37pwsW7ZMnnzySdm0aZNMmTIlIPfWoGjFihXyv//9T3r06BGQe5QoUcLcJ0uWLOKGzJkzy9mzZ+Xzzz+Xe++91+/YjBkzTMAdFxd3VdfWAHD48OFSsmRJqVmzZoq/75tvvrmq+wFAShEAAkEsJiZG2rVrZ4KkxYsXS+HChX3HunfvLjt37jQBYqAcPXrUfM2TJ0/A7qHZNQ2y3KKBtWZTZ82adUkAOHPmTGnevLl8/PHH6dIXDUSzZ88u4eHh6XI/APaiBAwEsbFjx8rp06fl7bff9gv+vMqWLSu9e/f27V+4cEGeffZZKVOmjAlsNPP03//+V+Lj4/2+T9v/85//mCzi9ddfbwIwLS9Pnz7dd46WLjXwVJpp1EBNv89bOvW+Tky/R89LbOHChdKwYUMTRObMmVMqVKhg+vRPYwA14L3xxhslR44c5ntbtmwpW7ZsSfZ+Gghrn/Q8HavYqVMnE0yl1AMPPCBff/21nDhxwte2evVqUwLWY0kdP35cBgwYINWqVTPvSUvIzZo1kw0bNvjO+f777+W6664zr7U/3lKy933qGD/N5q5du1ZuuukmE/h5fy5JxwBqGV7/jZK+/6ZNm0pUVJTJNAJAahAAAkFMy5IamNWvXz9F5z/yyCMydOhQufbaa2XcuHHSqFEjGT16tMkiJqVB09133y1NmjSRl156yQQSGkRpSVm1adPGXEPdf//9Zvzf+PHjU9V/vZYGmhqAjhgxwtznrrvukuXLl1/x+7799lsT3Bw5csQEef369ZMff/zRZOo0YExKM3enTp0y71Vfa5ClpdeU0veqwdknn3zil/2rWLGi+VkmtWvXLjMZRt/byy+/bAJkHSepP29vMFapUiXznlXXrl3Nz083Dfa8jh07ZgJHLQ/rz/aWW25Jtn861rNAgQImELx48aJpe+ONN0yp+NVXX5UiRYqk+L0CgOEBEJRiY2M9+hFt2bJlis5fv369Of+RRx7xax8wYIBpX7x4sa+tRIkSpm3p0qW+tiNHjngiIiI8/fv397XFxMSY81544QW/a3bo0MFcI6lhw4aZ873GjRtn9o8ePXrZfnvvMXXqVF9bzZo1PQULFvQcO3bM17ZhwwZPWFiY5+GHH77kfp07d/a7ZuvWrT358uW77D0Tv48cOXKY13fffbfntttuM68vXrzoiY6O9gwfPjzZn0FcXJw5J+n70J/fiBEjfG2rV6++5L15NWrUyBybPHlyssd0S2zBggXm/JEjR3p27drlyZkzp6dVq1b/+B4BIDlkAIEgdfLkSfM1V65cKTr/q6++Ml81W5ZY//79zdekYwUrV65sSqxemmHS8qxmt9KKd+zgp59+KgkJCSn6noMHD5pZs5qNzJs3r6+9evXqJlvpfZ+JdevWzW9f35dm17w/w5TQUq+WbQ8dOmTKz/o1ufKv0vJ6WNjfvz41I6f38pa3f/755xTfU6+j5eGU0KV4dCa4ZhU1Y6klYc0CAsDVIAAEgpSOK1Na2kyJ3bt3m6BExwUmFh0dbQIxPZ5Y8eLFL7mGloH//PNPSSv33XefKdtqabpQoUKmFP3hhx9eMRj09lODqaS0rPrHH3/ImTNnrvhe9H2o1LyXO++80wTbH3zwgZn9q+P3kv4svbT/Wh4vV66cCeLy589vAuhffvlFYmNjU3zPa665JlUTPnQpGg2KNUCeMGGCFCxYMMXfCwCJEQACQRwA6tiuX3/9NVXfl3QSxuVkypQp2XaPx3PV9/COT/PKli2bLF261Izpe+ihh0yApEGhZvKSnvtv/Jv34qWBnGbW3n33XZk7d+5ls3/queeeM5lWHc/3/vvvy4IFC8xklypVqqQ40+n9+aTGunXrzLhIpWMOAeBqEQACQUwnGegi0LoW3z/RGbsafOjM1cQOHz5sZrd6Z/SmBc2wJZ4x65U0y6g0K3nbbbeZyRKbN282C0prifW777677PtQ27Ztu+TY1q1bTbZNZwYHggZ9GmRp1jW5iTNeH330kZmwobOz9TwtzzZu3PiSn0lKg/GU0Kynlou1dK+TSnSGuM5UBoCrQQAIBLGBAweaYEdLqBrIJaXBoc4Q9ZYwVdKZuhp4KV3PLq3oMjNa6tSMXuKxe5o5S7pcSlLeBZGTLk3jpcvd6DmaiUscUGkmVGe9et9nIGhQp8voTJw40ZTOr5RxTJpdnDNnjuzfv9+vzRuoJhcsp9ZTTz0le/bsMT8X/TfVZXh0VvDlfo4AcCUsBA0EMQ20dDkSLZvq+LfETwLRZVE06NDJEqpGjRomINCngmjAoUuS/PTTTyZgaNWq1WWXGLkamvXSgKR169bSq1cvs+be66+/LuXLl/ebBKETFrQErMGnZva0fDlp0iQpWrSoWRvwcl544QWzPEq9evWkS5cu5kkhutyJrvGny8IEimYrBw8enKLMrL43zcjpEj1ajtVxg7pkT9J/Px1/OXnyZDO+UAPCunXrSqlSpVLVL82Y6s9t2LBhvmVppk6datYKHDJkiMkGAkCqJDs3GEBQ2b59u+fRRx/1lCxZ0hMeHu7JlSuXp0GDBp5XX33VLEnidf78ebN0SalSpTxZsmTxFCtWzDNo0CC/c5Qu4dK8efN/XH7kcsvAqG+++cZTtWpV058KFSp43n///UuWgVm0aJFZxqZIkSLmPP16//33m/eT9B5Jl0r59ttvzXvMli2bJzIy0tOiRQvP5s2b/c7x3i/pMjN6LW3Xa6d0GZjLudwyMLpcTuHChU3/tJ8rVqxIdvmWTz/91FO5cmVP5syZ/d6nnlelSpVk75n4OidPnjT/Xtdee635902sb9++ZmkcvTcApIaj/5W6kBEAAAAZGWMAAQAALEMACAAAYBkCQAAAAMsQAAIAAFiGABAAAMAyBIAAAACWIQAEAACwTEg+CSRbrR5udwFAgPy5eqLbXQAQIFkzh2bs8Ne64Pu9RQYQAADAMiGZAQQAAEgVx66cGAEgAACA44hN7Ap3AQAAQAYQAABALCsB2/VuAQAAQAAIAAAgOgYwUFsqnTp1Svr06SMlSpSQbNmySf369WX16tW+4x6PR4YOHSqFCxc2xxs3biw7duxI1T0IAAEAAILII488IgsXLpT33ntPNm7cKLfffrsJ8vbv32+Ojx07ViZMmCCTJ0+WVatWSY4cOaRp06YSFxeX4ns4Hg0jQwwLQQOhi4WggdDl6kLQ1w8I2LVP/DBK4uPj/doiIiLMltRff/0luXLlkk8//VSaN2/ua69du7Y0a9ZMnn32WSlSpIj0799fBgz4u8+xsbFSqFAhmTZtmrRr1y5FfSIDCAAAEECjR4+W3Llz+23alpwLFy7IxYsXJWvWrH7tWupdtmyZxMTEyKFDh0xG0EuvV7duXVmxYkWK+8QsYAAAACdw6wAOGjRI+vXr59eWXPZPafavXr16JtNXqVIlk9mbNWuWCe7Kli1rgj+l7YnpvvdYSpABBAAAcMICtmmwFxkZ6bddLgBUOvZPR+hdc8015jwd73f//fdLWFjahW0EgAAAAEGkTJkysmTJEjl9+rTs3btXfvrpJzl//ryULl1aoqOjzTmHDx/2+x7d9x5LCQJAAAAAJ3iWgfHS2b261Muff/4pCxYskJYtW0qpUqVMoLdo0SLfeSdPnjSzgbV0nFKMAQQAAAgiGuxpCbhChQqyc+dOefLJJ6VixYrSqVMncRzHrBE4cuRIKVeunAkIhwwZYmYGt2rVKsX3IAAEAABwgqcoqsu66MSRffv2Sd68eaVt27YyatQoyZIlizk+cOBAOXPmjHTt2lVOnDghDRs2lPnz518yc/hKWAcQQIbCOoBA6HJ1HcD6/w3Ytf/68TkJNmQAAQAAnMAtAxOMgiffCQAAgHRBBhAAAMCxKydGAAgAAOBQAgYAAEAIIwMIAADg2JUTs+vdAgAAgAwgAACAkAEEAABAKCMDCAAAEMYsYAAAAIQwMoAAAACOXTkxAkAAAACHEjAAAABCGBlAAAAAx66cmF3vFgAAAGQAAQAAhDGAAAAACGVkAAEAABy7cmJ2vVsAAACQAQQAABDLxgASAAIAADh2FUXtercAAAAgAwgAACCWlYDJAAIAAFiGDCAAAIBjV07MrncLAAAAMoAAAADCGEAAAACEMjKAAAAAjl05MQJAAAAAx64A0K53CwAAADKAAAAAwiQQAAAAhDIygAAAAI5dOTG73i0AAADIAAIAAAhjAAEAABDKyAACAAA4duXECAABAAAcSsAAAAAIYWQAAQCA9RwygAAAAHDDxYsXZciQIVKqVCnJli2blClTRp599lnxeDy+c/T10KFDpXDhwuacxo0by44dO1J1HwJAAABgPcdxAralxvPPPy+vv/66TJw4UbZs2WL2x44dK6+++qrvHN2fMGGCTJ48WVatWiU5cuSQpk2bSlxcXIrvQwkYAAAgSPz444/SsmVLad68udkvWbKkzJo1S3766Sdf9m/8+PEyePBgc56aPn26FCpUSObNmyft2rVL0X3IAAIAADiB2+Lj4+XkyZN+m7Ylp379+rJo0SLZvn272d+wYYMsW7ZMmjVrZvZjYmLk0KFDpuzrlTt3bqlbt66sWLEixW+XABAAACCARo8ebYK0xJu2Jefpp582WbyKFStKlixZpFatWtKnTx9p3769Oa7Bn9KMX2K67z2WEpSAAQCA9ZwAzgIeNGiQ9OvXz68tIiIi2XM//PBDmTFjhsycOVOqVKki69evNwFgkSJFpEOHDmnWJwJAAABgPSeAAaAGe5cL+JJ68sknfVlAVa1aNdm9e7fJGGoAGB0dbdoPHz5sZgF76X7NmjVT3CdKwAAAAEHi7NmzEhbmH55lypRJEhISzGtdHkaDQB0n6KVjCnU2cL169VJ8HzKAAADAek6QLATdokULGTVqlBQvXtyUgNetWycvv/yydO7c2ddPLQmPHDlSypUrZwJCXTdQS8StWrVK8X0IAAEAAIKErvenAd0TTzwhR44cMYHdY489ZhZ+9ho4cKCcOXNGunbtKidOnJCGDRvK/PnzJWvWrCm+j+NJvLR0iMhWq4fbXQAQIH+unuh2FwAESFYX01K5738vYNeOnfWQBBvGAAIAAFiGEjAAAIAjViEDCAAAYBkygAAAwHpOkMwCTi9kAAEAACxDBhAAAFjPsSwDSAAIAACs51gWAFICBgAAsAwZQAAAYD2HDCAAAABCGRlAAAAAR6xCBhAAAMAyZAABAID1HMYAAgAAIJSRAQQAANZzLMsAEgACAADrOZYFgJSAAQAALEMGEAAAwBGrkAEEAACwDBlAAABgPYcxgAAAAAhlZAABAID1HDKAAAAACGVkAAEAgPUcyzKAQRMAJiQkyM6dO+XIkSPmdWI33XSTa/0CAAChjwDQBStXrpQHHnhAdu/eLR6P55J/kIsXL7rWNwAAgFATFAFgt27dpE6dOvLll19K4cKFrYvCAQCAyxyxSlAEgDt27JCPPvpIypYt63ZXAAAAQl5QzAKuW7euGf8HAADgBsdxArYFo6DIAPbs2VP69+8vhw4dkmrVqkmWLFn8jlevXt21vgEAAISaoAgA27Zta7527tzZ16YRs04IYRIIAAAINCdIM3UhHQDGxMS43QUAAABrBEUAWKJECbe7AAAALOaQAUx/n3322WX/MbJmzWpmB5cqVSrd+wUAACzhiFWCIgBs1aqVb8xfYonHATZs2FDmzZsnUVFRrvUTAAAgFATFMjALFy6U6667znyNjY01m77W5WG++OILWbp0qRw7dkwGDBjgdlcBAEAIclgGJv317t1bpkyZIvXr1/e13Xbbbab827VrV9m0aZOMHz/eb5YwAAAAMnAA+Ntvv0lkZOQl7dq2a9cu87pcuXLyxx9/uNA7AAAQ6pwgzdSFdAm4du3a8uSTT8rRo0d9bfp64MCBpjTsfVxcsWLFXOwlAABAaAiKDODbb78tLVu2lKJFi/qCvL1790rp0qXl008/NfunT5+WwYMHu9xTuCVn9ggZ9sR/5K5ba0iBqJyyYds+GTD2I1m7eY9kzhwmzzzRQpo2rCKliuaTk6fjZPGqrTJkwmdy8Gis210HcBUOHz4s419+QZb/8IPExf0lxYqXkBEjn5MqVau53TWEKMeyDGBQBIAVKlSQzZs3yzfffCPbt2/3tTVp0kTCwsJ8M4Vhr9eHPiCVyxaRzoPfNUHd/XdeL19O7inXth0pp/+Kl5qVismYN7+WX7bvl6jI7PLik3fLnPGPScP2Y93uOoBUOhkbKx0fvF/qXF9XXpv8pkTljZI9u3dLZGRut7sGhAzHk3TtlRCQrVYPt7uANJQ1IoscXfai3NN3isxftsnXvnzGQPlm+WYZPumLS76nduXismzGQCnfbIjsPfRnOvcYgfTn6oludwEBNv7lF2X9up9l2nsz3e4K0llWF9NSpfp8GbBrx4xvLsHGtR/1hAkTzAxfnemrr6+kV69e6dYvBJ/MmcIkc+ZMEnfuvF97XPx5qV+rTLLfE5krmyQkJMiJU3+lUy8BpJUl3y2W+g0ayoC+vWTNmtVSsGAhua/dA9L2nnvd7hpCmSNWcS0AHDdunLRv394EgPr6SjX5KwWA8fHxZkvMk3BRnLBMadpfuOf02XhZuWGXDHq0mWyLOSyHj52Ue++oI3Wrl5Lf9v7fxCGviPDMMrJXS/lw/lo5dSbOlT4DuHr79u2VDz+YJQ916CRdunaTTRs3yvOjR0qWLFnkrlat3e4eEFAlS5aU3bt3X9L+xBNPyGuvvSZxcXHSv39/mT17tol/mjZtKpMmTZJChQpljAAwJiYm2depNXr0aBk+fLhfW6ZC10mWwtf/q/4huHQePF3eeKa97PpmlFy4cFHWb90rH85fI7UqFfc7TyeEvD+2y99/ODz3gWv9BXD1EhI8UqVqVenVp5/Zr1SpsuzcuUPmfDibABAhPwlk9erVcvHiRd/+r7/+auZE3HPPPWa/b9++8uWXX8qcOXMkd+7c0qNHD2nTpo0sX748400C+TcGDRok/fr9/UvCq+CNT7nWHwRGzL4/5PZHXpHsWcMlMmdWOfTHSXlvTCeJ2f+HX/A34/kuUrxwlDTr+irZPyCDKlCggJQu4z+8Q1eF+HbhAtf6BKTn//4TGzNmjJQpU0YaNWpknpSmK6fMnDlTbr31VnN86tSpUqlSJVm5cqXccMMNGSsA1Eh32rRpsmjRIjly5IgZu5XY4sWLL/u9ERERZkuM8m/oOht3zmx5cmWTxvUryf/Gf+oX/JUpXkDu6DpBjseecburAK5SzVrXyu9JKkO7f/9dihS5xrU+IfQ5AcwAJjdcLbn4Jalz587J+++/bxJd2r+1a9fK+fPnpXHjxr5zKlasKMWLF5cVK1akKgAMC5ZHwemmgWDVqlWlRo0afhvQuF4laVK/kpQokk9urVtR5r/ZW7bHHJbpn60wwd/MFx6RaysXl07/e1cyhTlSKF8us2XJzB8DQEbz4MMdZOMvG+StKZPN8i9fffG5fPTRh3Lf/Q+43TXgqoerabk28aZt/2TevHly4sQJ6dixo9k/dOiQhIeHS548efzO0/F/eiw1giIDqAMZP/zwQ7nzzjvd7gqCVO6cWWVEz7vkmkJ55HjsWfl00XoZ9trncuFCghQvnFda3FzdnPfTB4P8vk/Lxj+s3eFSrwFcjarVqsvLr0yUCeNfljdef02uKVpUBj71X2n+n7vc7hpCmOOk73C1f8r+KS33NmvWTIoUKZLmfQqKAFCj2bJly7rdDQSxjxeuM1ty9hw8ztqPQIhpdPMtZgNCQUQKyr1J6Uzgb7/9Vj755BNfW3R0tCkLa1YwcRZQn5yjx1IjKErAOp35lVdekRBckxoAAGQAjuMEbLsaOrmjYMGC0rz5/y0iXbt2bbMcks6Z8Nq2bZvs2bNH6tWrl/EygMuWLZPvvvtOvv76a6lSpYp5c4kljn4BAADSmhMcq8AYOhlWA8AOHTpI5sz/F6rp2MEuXbqYcnLevHklMjJSevbsaYK/1EwACZoAUNOYrVuzthMAAMC3335rsnqdO3e+5Jg+PCMsLEzatm3rtxB0avEsYAAZCs8CBkKXm88CrvBU4NaZ3PZ8Uwk2QTEGUF24cMFEvG+88YacOnXKtB04cEBOnz7tdtcAAABCSlCUgHWmyx133GHSnZrO1Eee5MqVS55//nmzP3nyZLe7CAAAQpgTRGMArckA6iLQderUkT///FOyZcvma9dxgYlnugAAACBEMoA//PCD/Pjjj2Y9wMRKliwp+/fvd61fAADADmFhdqUAw4JlurM+Bi6pffv2mVIwAAAAQiwAvP3222X8+PG+fV00USd/DBs2jMfDAQCAdBkD6ARoC0ZBUQJ+6aWXzDo2lStXlri4OHnggQdkx44dki9fPpk1a5bb3QMAACHOCdZILZQDwKJFi8qGDRtk9uzZ8ssvv5jsn6503b59e79JIQAAAAiREvCxY8fMo04efPBB80iT/Pnzm2fbrVmzxu2uAQAACziWlYBdDQA3btxoZvrqw44rVqwo69evl+uuu8485mTKlClyyy23yLx589zsIgAAQMhxNQAcOHCgVKtWTZYuXSo333yz/Oc//5HmzZtLbGysWRPwsccekzFjxrjZRQAAYMkYQCdAWzBydQzg6tWrZfHixVK9enWpUaOGyfo98cQT5iHHSsvBN9xwg5tdBAAACDmuBoDHjx+X6Oho8zpnzpySI0cOiYqK8h3X197nAgMAAASKE6SZupCdBJL0B27bPwAAAIB1y8B07NhRIiIizGtdA7Bbt24mE6ji4+Nd7h0AALCBY1n+ydUAsEOHDn77ugxMUg8//HA69ggAANjIsSwCdDUAnDp1qpu3BwAAsJLrJWAAAAC3OXYlAN2fBAIAAID0RQYQAABYz7EsBUgGEAAAwDJkAAEAgPUcuxKAZAABAABsQwYQAABYz7EsBUgGEAAAwDJkAAEAgPUcuxKABIAAAACOZREgJWAAAADLkAEEAADWc+xKAJIBBAAAsA0ZQAAAYD3HshQgGUAAAADLkAEEAADWc+xKAJIBBAAAsA0ZQAAAYD3bxgASAAIAAOs5dsV/lIABAABsQwYQAABYz7EsBUgGEAAAwDJkAAEAgPUcMoAAAAAIZWQAAQCA9Ry7EoBkAAEAAGxDAAgAAKznOE7AttTav3+/PPjgg5IvXz7Jli2bVKtWTdasWeM77vF4ZOjQoVK4cGFzvHHjxrJjx45U3YMAEAAAWM9xArelxp9//ikNGjSQLFmyyNdffy2bN2+Wl156SaKionznjB07ViZMmCCTJ0+WVatWSY4cOaRp06YSFxeX4vswBhAAACBIPP/881KsWDGZOnWqr61UqVJ+2b/x48fL4MGDpWXLlqZt+vTpUqhQIZk3b560a9cuRfchAwgAAKznBLAEHB8fLydPnvTbtC05n332mdSpU0fuueceKViwoNSqVUvefPNN3/GYmBg5dOiQKft65c6dW+rWrSsrVqxI8fslAAQAAAig0aNHmyAt8aZtydm1a5e8/vrrUq5cOVmwYIE8/vjj0qtXL3n33XfNcQ3+lGb8EtN977GUoAQMAACs5wRwGZhBgwZJv379/NoiIiKSPTchIcFkAJ977jmzrxnAX3/91Yz369ChQ5r1iQwgAABAAGmwFxkZ6bddLgDUmb2VK1f2a6tUqZLs2bPHvI6OjjZfDx8+7HeO7nuPpQQBIAAAsF6Y4wRsSw2dAbxt2za/tu3bt0uJEiV8E0I00Fu0aJHvuI4p1NnA9erVS/F9KAEDAAAEib59+0r9+vVNCfjee++Vn376SaZMmWI2pZNK+vTpIyNHjjTjBDUgHDJkiBQpUkRatWqV4vsQAAIAAOs5QfIouOuuu07mzp1rxg2OGDHCBHi67Ev79u195wwcOFDOnDkjXbt2lRMnTkjDhg1l/vz5kjVr1hTfx/HogjIhJlutHm53AUCA/Ll6ottdABAgWV1MSzWdtCpg117wRF0JNowBBAAAsAwlYAAAYL2wICkBpxcygAAAAJYhAwgAAKznBMsskHRCBhAAAMAyZAABAID1HLsSgGQAAQAAbEMGEAAAWM8Ru1KABIAAAMB6YXbFf5SAAQAAbEMGEAAAWM+xbBYIGUAAAADLkAEEAADWc+xKAJIBBAAAsA0ZQAAAYL0wy1KAZAABAAAsQwYQAABYz7ErAUgACAAA4FgWAVICBgAAsAwZQAAAYD3HrgRgygLAzz77LMUXvOuuu/5NfwAAABAMAWCrVq1SXD+/ePHiv+0TAABAugqzLAWYogAwISEh8D0BAABA8E8CiYuLS7ueAAAAuMQJ4BYSAaCWeJ999lm55pprJGfOnLJr1y7TPmTIEHn77bcD0UcAAAC4GQCOGjVKpk2bJmPHjpXw8HBfe9WqVeWtt95Ky74BAACkC8dxAraFRAA4ffp0mTJlirRv314yZcrka69Ro4Zs3bo1rfsHAAAQcGFO4LaQCAD3798vZcuWTXaiyPnz59OqXwAAAAiWALBy5cryww8/XNL+0UcfSa1atdKqXwAAAOnGsawEnOongQwdOlQ6dOhgMoGa9fvkk09k27ZtpjT8xRdfBKaXAAAAcC8D2LJlS/n888/l22+/lRw5cpiAcMuWLaatSZMmadczAACAdOI4gdtC5lnAN954oyxcuDDtewMAAIDgDADVmjVrTObPOy6wdu3aadkvAACAdOMEa6ouWALAffv2yf333y/Lly+XPHnymLYTJ05I/fr1Zfbs2VK0aNFA9BMAAABujQF85JFHzHIvmv07fvy42fS1TgjRYwAAABlNmGXrAKY6A7hkyRL58ccfpUKFCr42ff3qq6+asYEAAAAZjWNZCTjVGcBixYolu+CzPiO4SJEiadUvAAAABEsA+MILL0jPnj3NJBAvfd27d2958cUX07p/AAAAAecEcMuwJeCoqCi/1OiZM2ekbt26kjnz399+4cIF87pz587SqlWrwPUWAAAA6RMAjh8//t/fCQAAIEiFWTYGMEUBoD76DQAAAJYvBK3i4uLk3Llzfm2RkZH/tk8AAADpyrErAZj6SSA6/q9Hjx5SsGBB8yxgHR+YeAMAAMDVeeaZZ8y8i8RbxYoV/ZJv3bt3l3z58knOnDmlbdu2cvjw4cAHgAMHDpTFixfL66+/LhEREfLWW2/J8OHDzRIw06dPT3UHAAAA3OYkCbrSckutKlWqyMGDB33bsmXLfMf69u0rn3/+ucyZM8eszXzgwAFp06ZN4EvAelMN9G6++Wbp1KmTWfy5bNmyUqJECZkxY4a0b98+1Z0AAADA33RllejoaEkqNjZW3n77bZk5c6bceuutpm3q1KlSqVIlWblypdxwww0SsAygPvqtdOnSvvF+uq8aNmwoS5cuTe3lAAAAXOc4gdvi4+Pl5MmTfpu2Xc6OHTtMZVXjLU2s7dmzx7SvXbvWPIyjcePGvnO1PFy8eHFZsWJFqt5vqgNA7UxMTIzvph9++KEvM5gnT57UXg4AACAoloEJC9A2evRoyZ07t9+mbcnRdZanTZsm8+fPN8PtNObSauupU6fk0KFDEh4efkm8VahQIXMsoCVgLftu2LBBGjVqJE8//bS0aNFCJk6caCLSl19+ObWXAwAACGmDBg2Sfv36+bXpPIrkNGvWzPe6evXqJiDUYXaacMuWLVua9SnVAaAOPvTSFOTWrVtNSlLHAWpHAQAAMhongMvAaLB3uYDvn2i2r3z58rJz505p0qSJWX7vxIkTfllAnQWc3JjBNC0BJ6VRqc4+IfgDAABIW6dPn5bffvtNChcuLLVr15YsWbLIokWLfMe3bdtmxgjWq1cv7TOAEyZMSPEFe/XqlaoOAAAAuM0JkpWgBwwYYIbXaYJNl3gZNmyYZMqUSe6//34zdrBLly6mnJw3b14zGbdnz54m+EvNDOAUB4Djxo1L8Q+PABAAAODq7Nu3zwR7x44dkwIFCphVVnSJF33tjcnCwsLMAtA6k7hp06YyadKkVN/H8Xg8Hgkx63afcrsLAAKkZIHsbncBQIBEZc/k2r17zt0SsGu/2rqSBJt/PQYQAAAAGUuqZwEDAACEGidIxgCmFwJAAABgvTC74j9KwAAAALYhAwgAAKwXRgbwn/3www/y4IMPmnVn9u/fb9ree+89WbZsWVr3DwAAAG4HgB9//LFZc0afR7du3TqzBo2KjY2V5557Lq37BwAAkC6TQJwAbSERAI4cOVImT54sb775pnkciVeDBg3k559/Tuv+AQAAwO0xgPrMuZtuuumSdn08iT6cGAAAIKMJC85EXfBkAKOjo2Xnzp2XtOv4v9KlS6dVvwAAABAsAeCjjz4qvXv3llWrVpm6tj6oeMaMGebhxY8//nhgegkAABBAjhO4LSRKwE8//bQkJCTIbbfdJmfPnjXl4IiICBMA9uzZMzC9BAAACKCwYI3UAsTxeDyeq/nGc+fOmVLw6dOnpXLlypIzZ04JFut2n3K7CwACpGSB7G53AUCARGXP5Nq9n/5qe8CuPebO8hIyC0GHh4ebwA8AACCjCxO7pDoAvOWWW664ps3ixYv/bZ8AAAAQTAFgzZo1/fbPnz8v69evl19//VU6dOiQln0DAABIF45dQwBTHwCOGzcu2fZnnnnGjAcEAACAJSVvfTbwO++8k1aXAwAASNdZwGEB2kI6AFyxYoVkzZo1rS4HAACAYCkBt2nTxm9fV5E5ePCgrFmzRoYMGZKWfQMAAEgXTnAm6oInANRn/iYWFhYmFSpUkBEjRsjtt9+eln0DAABIF2EEgJd38eJF6dSpk1SrVk2ioqIC1ysAAAAExxjATJkymSzfiRMnAtcjAACAdBbGJJArq1q1quzatSswvQEAAEDwBYAjR46UAQMGyBdffGEmf5w8edJvAwAAyGgcJ3Bbhh4DqJM8+vfvL3feeafZv+uuu/weCaezgXVfxwkCAAAgeKU4ABw+fLh069ZNvvvuu8D2CAAAIJ2FBWmmzvUAUDN8qlGjRoHsDwAAAIJpGZjEJV8AAIBQ4YhdMU6qAsDy5cv/YxB4/Pjxf9snAACAdBVmV/yXugBQxwEmfRIIAAAAQjgAbNeunRQsWDBwvQEAAHBBmGUZwBSvA8j4PwAAAEtnAQMAAIQax7JEV4oDwISEhMD2BAAAAME3BhAAACAUhdmVAEz9s4ABAACQsZEBBAAA1nMsywASAAIAAOuFWRYBUgIGAACwDBlAAABgvTC7EoBkAAEAAGxDBhAAAFjPIQMIAACAYDBmzBjzlJI+ffr42uLi4qR79+6SL18+yZkzp7Rt21YOHz6cqusSAAIAAOuFiROw7WqtXr1a3njjDalevbpfe9++feXzzz+XOXPmyJIlS+TAgQPSpk2bVL5fAAAABJXTp09L+/bt5c0335SoqChfe2xsrLz99tvy8ssvy6233iq1a9eWqVOnyo8//igrV65M8fUJAAEAgPUcJ3BbfHy8nDx50m/TtivREm/z5s2lcePGfu1r166V8+fP+7VXrFhRihcvLitWrEjx+yUABAAA1gtzAreNHj1acufO7bdp2+XMnj1bfv7552TPOXTokISHh0uePHn82gsVKmSOpRSzgAEAAAJo0KBB0q9fP7+2iIiIZM/du3ev9O7dWxYuXChZs2YNWJ8IAAEAgPXCArgOjAZ7lwv4ktIS75EjR+Taa6/1tV28eFGWLl0qEydOlAULFsi5c+fkxIkTfllAnQUcHR2d4j4RAAIAAASJ2267TTZu3OjX1qlTJzPO76mnnpJixYpJlixZZNGiRWb5F7Vt2zbZs2eP1KtXL8X3IQAEAADWc4JkIehcuXJJ1apV/dpy5Mhh1vzztnfp0sWUlPPmzSuRkZHSs2dPE/zdcMMNKb4PASAAAEAGMm7cOAkLCzMZQJ1N3LRpU5k0aVKqruF4PB6PhJh1u0+53QUAAVKyQHa3uwAgQKKyZ3Lt3m//tCdg1+5yfXEJNiwDAwAAYBlKwAAAwHpOkIwBTC8EgAAAwHphYhfb3i8AAID1yAACAADrOZbVgMkAAgAAWIYMIAAAsJ4jdiEDCAAAYBkygAAAwHphjAEEAABAKCMDCAAArOeIXQgAAQCA9RzLIkBKwAAAAJYhAwgAAKznWJYCJAMIAABgGTKAAADAemFiF9veLwAAgPXIAAIAAOs5jAEEAABAKCMDCAAArOeIXcgAAgAAWIYMIAAAsJ5j2RhAAkAAAGC9MLGLbe8XAADAemQAAQCA9RzLSsBkAAEAACxDBhAAAFjPEbuQAQQAALAMGUAAAGA9x7IUYFBkAEeMGCFnz569pP2vv/4yxwAAAJB2HI/H4xGXZcqUSQ4ePCgFCxb0az927Jhpu3jxYqqut273qTTuIYBgUbJAdre7ACBAorJncu3en288HLBrt6hWSIJNUJSANQZNbvr1hg0bJG/evK70CQAA2MOxrATsagAYFRVlAj/dypcv7xcEatbv9OnT0q1bNze7CAAAEHJcDQDHjx9vsn+dO3eW4cOHS+7cuX3HwsPDpWTJklKvXj03uwgAACzgWLYQjKsBYIcOHczXUqVKSf369SVLlixudgcAAMAKQTEGsFGjRpKQkCDbt2+XI0eOmNeJ3XTTTa71DQAAhD7HrgRgcASAK1eulAceeEB2795tSsKJ6bjA1M4CBgAAQJAHgDrRo06dOvLll19K4cKFrXsgMwAAcFcYYwDT344dO+Sjjz6SsmXLut0VAACAkBcUTwKpW7eu7Ny50+1uAAAASzlO4LZgFBQZwJ49e0r//v3l0KFDUq1atUtmA1evXt21vgEAgNDnBGmgFtKPggsLuzQRqeMAvU8I4VFwALx4FBwQutx8FNw3W44G7Nq3VyogwSYoMoAxMTFudwEAAFjMsWwSSFCMASxRosQVNwAAABu8/vrrZuhbZGSk2fSJaF9//bXveFxcnHTv3l3y5csnOXPmlLZt28rhw4czZgbQa/PmzbJnzx45d+6cX/tdd93lWp8AAEDoCwuSBGDRokVlzJgxUq5cOTMU7t1335WWLVvKunXrpEqVKtK3b1+zbN6cOXPMI3R79Oghbdq0keXLl2e8MYC7du2S1q1by8aNG31j/0zn/v+ITMYAAvBiDCAQutwcA7ho6x8Bu/ZtFfP/q+/PmzevvPDCC3L33XdLgQIFZObMmea12rp1q1SqVElWrFghN9xwQ8YqAffu3ds8D1gfA5c9e3bZtGmTLF261CwO/f3337vdPQAAYMEYQCdA/4mPj5eTJ0/6bdr2TzQBNnv2bDlz5owpBa9du1bOnz8vjRs39p1TsWJFKV68uAkAUyMoAkDt9IgRIyR//vxmRrBuDRs2lNGjR0uvXr3c7h4AAMBV03hGy7WJN227HK2I6vi+iIgI87S0uXPnSuXKlc1yeeHh4ZInTx6/8wsVKmSOZbgxgBrh5sqVy7zWIPDAgQNSoUIFMwFk27ZtbncPAACEOCeAYwAHDRok/fr182vT4O5yNAZav369xMbGmieldejQQZYsWZKmfQqKALBq1aqyYcMGUwbWp4KMHTvWRLhTpkyR0qVLu909AAAQ4pwALgOjwd6VAr6kNAbyPh63du3asnr1annllVfkvvvuMxNlT5w44ZcF1FnA0dHRGa8EPHjwYElISDCvtRSs6wLeeOON8tVXX8mECRPc7h4AAIBrNEbSMYMaDOrT0hYtWuQ7ppVSXUFFxwhmuAxg06ZNfa814tUZLcePH5eoqCjfTGAAAIBQXwZm0KBB0qxZMzOx49SpU2bGr06IXbBggRk72KVLF1NO1pnBuk6gPk5Xg7/UzAAOmgAwOfrGAAAAbKIrojz88MNy8OBBE/DpotAa/DVp0sQcHzdunJksqwtAa1ZQk2iTJk1K9X2CYh1And6six5qSlPfuLccnHidwNRgHUAgdLEOIBC63FwH8Iftfwbs2jeWj5JgExQZwEceecTMbnnooYekcOHClH0BAABCPQDUZ9zpY00aNGjgdlcQpObNmio/Lf9ODuz9XcLDI6R85erywCM9pUixkpecq0ntMf/rLRvW/Cj9h70o1zW42ZU+A0iZdWvXyPvT35FtmzfJH38cledfniCNbmns95l+8/WJ8uncOXL61CmpVqOWDPzvUCle4tLPP3C1HMtyT0ExC1gnezDmD1eyZePPcvtd98izr0yV/415TS5evCDPDeohcX/9dcm5X30y07oPMpCR/fXXWSlXvoIMGDQk2ePvTXtbPpz1vjz132Hy1vTZki1bNunTvWuKnqQAIIgDwGeffVaGDh0qZ8+edbsrCFKDnntVbr69hRQrWUZKlCkvjw94Rv44ckhidmzxO+/337bJlx/PkG79h7rWVwCpU7/hTdKte2+5+db/y/olzv59MHO6dHr0MbnplttMoDjs2THyx9EjsvS7/1sKA/i3nABuwSgoSsAvvfSS/Pbbb+ZRJiVLljRr3CT2888/u9Y3BKezZ06brzlzRfra4uPi5NXRg6Vzj4GSJ++/e/A2gOBwYP8+OfbHH3Jd3f9b4yxnrlxSpWp12fjLemlyx52u9g+hI8yy0lFQBICtWrW66u/VEkDSMsC5+HMSnooVt5Gx6Czxdye/JBWq1JBipf5eKV1Nn/ySGRtYpz5j/oBQocGfypvkj7q8+fLJsWN/HwOQQQPAYcOGXfX36sOUhw8f7tfWtffT0q3vf9OgZwhG70x8Xvb+/psMf/ktX9uaFUtk0/o1Mub1Ga72DQCQMTlil6AIANP6ActbDp1zrT8IfPD388pl8sxLUyRfgUK+dg3+Dh/cJ51b3+J3/svPDpSKVWvKsBenuNBbAP9Wvvx/Z/6OH/9D8hco4Gs/fuyYlKtQ0cWeARlbUASAl3vkm7ZlzZrVPB6uY8eO0qlTpxQ9YDn8TxaCDjU6EHzqa2Nl9fLvZeiLb0jBwtf4HW95Xwe59Y6Wfm1PPtZOHn6sn9S+4cZ07i2AtFLkmqImCFy9aqWUr1DJtJ05fVo2/fqLtLmnndvdQyhxxCpBEQDqDOBRo0aZZ99df/31pu2nn36S+fPnS/fu3SUmJkYef/xxuXDhgjz66KNudxcueOfV52X5d/NlwPCXJFu27HLi+N9jf7LnyCnhEVnNpI/kJn7kLxh9SbAIILicPXtG9u3d49s/sH+/bN+2RSIjc0t04SJy3wMPy7S33pBixUuYgHDKpAmSv0BBMysYQAYOAJctWyYjR46Ubt26+bW/8cYb8s0338jHH39snoU3YcIEAkBLLfziI/N1xIDH/Nq7DRhmlocBkHFt2bxJuj/a0bf/ykvPm693tmglQ0c8Jw917GLW/BwzcphZCLp6zWtl/GtTLqn+AP+GY1kKMCieBZwzZ05Zv369KfUmtnPnTqlZs6acPn3aLBOjQaA+N/if8CxgIHTxLGAgdLn5LOBVv8UG7Np1y+SWYBMUC0HrU0A+//zzS9q1zfuEEA38cuXK5ULvAABAqHOcwG3BKChKwEOGDDFj/L777jvfGMDVq1fLV199JZMnTzb7CxculEaNGrncUwAAEIocsUtQlIDV8uXLZeLEibJt2zazX6FCBenZs6fUr18/1deiBAyELkrAQOhyswS8elfgSsDXlQ6+EnBQZABVgwYNzAYAAJDuHLGKawHgyZMnJTIy0vf6SrznAQAAIAMHgLr488GDB6VgwYKSJ0+eZBeC1uq0tl+8eNGVPgIAADs4lqUAXQsAFy9e7Jvhq5M/AAAAEOIBYOIZvczuBQAAbnLsSgC6FwD+8ssvKT5XF4AGAABABg8A9QkfOr7vn1ahYQwgAAAINEfs4loAGBMT49atAQAArI4AXQsAS5Qo4datAQAArBY0C0GrzZs3y549e+TcuXN+7XfddZdrfQIAAKHPsSwFGBQB4K5du6R169ayceNGv3GB3rUBGQMIAACQdsIkCPTu3VtKlSolR44ckezZs8umTZtk6dKlUqdOHfn+++/d7h4AAAhxjhO4LRgFRQZwxYoVZmHo/PnzS1hYmNkaNmwoo0ePll69esm6devc7iIAAEDICIoMoJZ4c+XKZV5rEHjgwAHfRJFt27a53DsAABDqnABuwSgoMoBVq1aVDRs2mDJw3bp1ZezYsRIeHi5TpkyR0qVLu909AACAkBIUAeDgwYPlzJkz5vXw4cOlRYsWcuONN0q+fPlk9uzZbncPAACEOkes4nj+6VEcLjl+/LhERUX5ZgKnxrrdpwLSJwDuK1kgu9tdABAgUdkzuXbvX/aeDti1qxfLKcHG1Qxg586dU3TeO++8E/C+AAAA2MLVAHDatGlmoketWrX+8ZnAAAAAgeJYVgJ2NQB8/PHHZdasWea5wJ06dZIHH3xQ8ubN62aXAAAAQp6ry8C89tprcvDgQRk4cKB8/vnnUqxYMbn33ntlwYIFZAQBAEC6cSxbBiaoJoHs3r3blIWnT58uFy5cME8EyZkz9QMnmQQChC4mgQChy81JIL/uC9wkkKpFmQRyRfoEEO+zgHn+LwAASDeOWMX1J4HEx8ebcYBNmjSR8uXLy8aNG2XixImyZ8+eq8r+AQAAIIgzgE888YRZ6FnH/umSMBoI6qPgAAAA0pNjWQrQ1TGAWvItXry4WQbmSgs+f/LJJ6m6LmMAgdDFGEAgdLk5BnDT/r+fSBYIVa7JIcHG1Qzgww8/fFVP+gAAAEhLjmXhiOsLQQMAALjNEbu4PgkEAAAAfxs9erRcd911kitXLilYsKC0atVKtm3bJonFxcVJ9+7dJV++fGbCbNu2beXw4cOSGgSAAAAATnCsBL1kyRIT3K1cuVIWLlwo58+fl9tvv13OnPm/MYp9+/Y1D9CYM2eOOf/AgQPSpk2bjLsQdFphEggQupgEAoQuNyeBbDkYuEkglQpf/SSQo0ePmkygBno33XSTxMbGSoECBWTmzJly9913m3O2bt0qlSpVkhUrVsgNN9yQ8RaCBgAACLVlYOLj482WWEREhNn+iQZ8Km/evObr2rVrTVawcePGvnMqVqxoVlVJTQBICRgAACDA4/py587tt2nbP0lISJA+ffpIgwYNpGrVqqbt0KFDEh4eLnny5PE7t1ChQuZYSpEBBAAA1nMCOA140KBB0q9fP7+2lGT/dCzgr7/+KsuWLUvzPhEAAgAABFBKy72J9ejRQ7744gtZunSpFC1a1NceHR0t586dkxMnTvhlAXUWsB5LKUrAAADAek5wTAIWnZurwd/cuXNl8eLFUqpUKb/jtWvXlixZssiiRYt8bbpMzJ49e6RevXopvg8ZQAAAAEeCgpZ9dYbvp59+atYC9I7r03GD2bJlM1+7dOliSso6MSQyMlJ69uxpgr+UTgBRLAMDIENhGRggdLm5DMz2w2cDdu3yhVL+e+tyj8idOnWqdOzY0bcQdP/+/WXWrFlmdnHTpk1l0qRJqSoBEwACyFAIAIHQ5WYAuOPwXwG7drlC2STYMAYQAADAMowBBAAA1nOCZAxgeiEDCAAAYBkygAAAwHqO2IUMIAAAgGXIAAIAADhiFQJAAABgPceyCJASMAAAgGXIAAIAAOs5diUAyQACAADYhgwgAACwniN2IQMIAABgGTKAAAAAjliFDCAAAIBlyAACAADrOZalAAkAAQCA9Ry74j9KwAAAALYhAwgAAKzniF3IAAIAAFiGDCAAALCeY1kKkAwgAACAZcgAAgAAiF0pQDKAAAAAliEDCAAArOfYlQAkAAQAAHDELpSAAQAALEMGEAAAWM+xLAVIBhAAAMAyZAABAID1HMtGAZIBBAAAsAwZQAAAAEesQgYQAADAMmQAAQCA9RyxCwEgAACwnmNZBEgJGAAAwDJkAAEAgPUcy4rAZAABAAAsQwYQAADAEauQAQQAALAMGUAAAGA9R+xCBhAAAMAyZAABAID1HMtSgGQAAQCA9ZwA/ie1li5dKi1atJAiRYqI4zgyb948v+Mej0eGDh0qhQsXlmzZsknjxo1lx44dqboHASAAAEAQOXPmjNSoUUNee+21ZI+PHTtWJkyYIJMnT5ZVq1ZJjhw5pGnTphIXF5fiezgeDSNDzLrdp9zuAoAAKVkgu9tdABAgUdkzuXbvP89eDMr3pRnAuXPnSqtWrcy+hm2aGezfv78MGDDAtMXGxkqhQoVk2rRp0q5duxRdlwwgAABAAMXHx8vJkyf9Nm27GjExMXLo0CFT9vXKnTu31K1bV1asWJHi6xAAAgAABNDo0aNNkJZ407arocGf0oxfYrrvPZYSzAIGAAAIoEGDBkm/fv382iIiIsRNBIAAAMB6TgCXgdFgL60CvujoaPP18OHDZhawl+7XrFkzxdehBAwAAJBBlCpVygSBixYt8rXpmEKdDVyvXr0UX4cMIAAAsJ4TRA+DO336tOzcudNv4sf69eslb968Urx4cenTp4+MHDlSypUrZwLCIUOGmJnB3pnCKUEACAAArOcET/wna9askVtuucW37x0/2KFDB7PUy8CBA81agV27dpUTJ05Iw4YNZf78+ZI1a9YU34N1AAFkKKwDCIQuN9cBPBmXELBrR2YNvhF3ZAABAID1HLFL8IWkAAAACCgygAAAAI5YhQwgAACAZcgAAgAA6zmWpQDJAAIAAFiGDCAAALCeY1cCkAwgAACAbcgAAgAA6zliFwJAAAAAR6xCCRgAAMAyZAABAID1HMtSgGQAAQAALEMGEAAAWM+xKwFIBhAAAMA2jsfj8bjdCeBqxcfHy+jRo2XQoEESERHhdncApCE+30DgEAAiQzt58qTkzp1bYmNjJTIy0u3uAEhDfL6BwKEEDAAAYBkCQAAAAMsQAAIAAFiGABAZmg4MHzZsGAPEgRDE5xsIHCaBAAAAWIYMIAAAgGUIAAEAACxDAAgAAGAZAkCElJIlS8r48ePd7gaAJH7//XdxHEfWr19v9r///nuzf+LECbe7BliJABDpomPHjuaXvXfLly+f3HHHHfLLL7+k6X1Wr14tXbt2TdNrArZ/brt163bJse7du5tjes7VqF+/vhw8eNA86SPYTJs2TfLkyeN2N4CAIgBEutGAT3/h67Zo0SLJnDmz/Oc//0nTexQoUECyZ8+eptcEbFasWDGZPXu2/PXXX762uLg4mTlzphQvXvyqrxseHi7R0dEmiASQ/ggAkW50LS/9ha9bzZo15emnn5a9e/fK0aNHzXF9fe+995q/vPPmzSstW7Y0ZSMvzTS0atVKXnzxRSlcuLDJImoW4vz585ctAW/dulUaNmwoWbNmlcqVK8u3335r/g9n3rx5fmWpTz75RG655RYTPNaoUUNWrFiRrj8bIFhde+21JgjUz4iXvtbgr1atWr62+fPnm8+afn71s6l/3P3222+XvW5yJeA333zT3Es/h61bt5aXX37ZLxP3zDPPmN8d7733nvmsa/awXbt2curUqRT3458+89qvTp06mecPeysWel8g1BAAwhWnT5+W999/X8qWLWt+SWsQ17RpU8mVK5f88MMPsnz5csmZM6fJGp47d873fd999535Za5f3333XVOq0S05Fy9eNAGj/oJftWqVTJkyRf73v/8le662DxgwwIxPKl++vNx///1y4cKFgL1/ICPp3LmzTJ061bf/zjvvmCApsTNnzki/fv1kzZo1JsMfFhZmgriEhIQU3UM/81pq7t27t/kcNmnSREaNGnXJefr51z/gvvjiC7MtWbJExowZk+p+XO4zr6Vp/SMyMjLSV7HQ84CQowtBA4HWoUMHT6ZMmTw5cuQwm/5Pr3Dhwp61a9ea4++9956nQoUKnoSEBN/3xMfHe7Jly+ZZsGCB7xolSpTwXLhwwXfOPffc47nvvvt8+3p83Lhx5vXXX3/tyZw5s+fgwYO+4wsXLjT3njt3rtmPiYkx+2+99ZbvnE2bNpm2LVu2BPRnAgQ7/cy1bNnSc+TIEU9ERITn999/N1vWrFk9R48eNcf0nOTocf0cbdy40e+ztm7dOrP/3Xffmf0///zT7OvnuHnz5n7XaN++vSd37ty+/WHDhnmyZ8/uOXnypK/tySef9NStW/ey7+Fy/bjSZ37q1Kl+9wVCERlApBstt+hf27r99NNPJuPXrFkz2b17t2zYsEF27txpMoCa+dNNy8A61ihx+aZKlSqSKVMm376Wgo8cOZLs/bZt22bKSVpy9rr++uuTPbd69ep+11SXuy5gGx1b27x5c5Nt10ygvs6fP7/fOTt27DBZtNKlS5vsmZZo1Z49e1J0D/28Jv18Jvd51evq74nL/Q5IaT/4zMN2md3uAOyRI0cOU/L1euutt8wYHh33oyXh2rVry4wZM5L9Px+vLFmy+B3T8TkpLTFdSeLregelp8V1gVAqA/fo0cO8fu211y453qJFCylRooT5PBcpUsR8fqpWreo3hCMt/NPvgJT2g888bEcACNfoL10dn6OzC3Wg+QcffCAFCxY0f7WnhQoVKpiJJYcPH5ZChQr5lokBkHre8bj6udXsfWLHjh0zGTwNum688UbTtmzZslR/XpN+PlP7eU2LfnhnKOsYYiCUUQJGuomPj5dDhw6ZbcuWLdKzZ0+T+dO/2Nu3b29KSjrzVyeBxMTEmNl4vXr1kn379l3V/XQQeZkyZaRDhw5mvUEdZD548GBzjKUngNTRoRf6ud28ebPfMAwVFRVlJnPpRCsdyrF48WIzESM19PfBV199ZWb+ahn3jTfekK+//jpVn9W06IfSsrH+btJJJH/88YecPXs21dcAgh0BINKNLs+gY210q1u3rvnrfs6cOXLzzTebmbpLly41S0u0adNGKlWqJF26dDFjAK82I6j/J6WzBfUX+XXXXSePPPKIbxawLgsDIHX0s5jc51Ez+bpW4Nq1a025tW/fvvLCCy+k6toNGjSQyZMnmwBQl2XR3xd6ndR8VtOiH0pnAuuM5Pvuu88MQRk7dmyqrwEEO0dngrjdCSC9aBZQ1wjT7IBmBwEEr0cffdSs5alVAQBpizGACGlz5841M4rLlStngj5dY0wzDQR/QPDRRd516IZOGNPyr671OWnSJLe7BYQkAkCENH1CwFNPPWWWgNAxho0bN5aXXnrJ7W4BSIYuD6XlVv3c6jIuEyZMMEM3AKQ9SsAAAACWYRIIAACAZQgAAQAALEMACAAAYBkCQAAAAMsQAAIAAFiGABBA0OrYsaO0atXKt69PjenTp0+690MfS6iPJDtx4kS63xsAAoEAEMBVBWYaEOkWHh4uZcuWlREjRsiFCxcCet9PPvlEnn322RSdS9AGAJfHQtAArsodd9whU6dOlfj4ePnqq6+ke/fukiVLFhk0aJDfeefOnTNBYlrImzdvmlwHAGxHBhDAVYmIiJDo6GgpUaKEPP744+YpK5999pmvbDtq1CgpUqSIVKhQwZy/d+9euffeeyVPnjwmkGvZsqX8/vvvvutdvHhR+vXrZ47ny5dPBg4cKEnXqU9aAtbgU5/0UqxYMdMfzUS+/fbb5rq33HKLOScqKspkArVfKiEhQUaPHi2lSpWSbNmySY0aNeSjjz7yu48GtOXLlzfH9TqJ+wkAoYAAEECa0GBJs31q0aJFsm3bNlm4cKF88cUXcv78eWnatKnkypVLfvjhB1m+fLl5RrNmEb3fo4/omzZtmrzzzjuybNkyOX78uHmW85U8/PDDMmvWLPPIsC1btsgbb7xhrqsB4ccff2zO0X4cPHhQXnnlFbOvwd/06dNl8uTJsmnTJunbt688+OCDsmTJEl+g2qZNG2nRooWsX7/ePIrs6aefDvBPDwDSFyVgAP+KZuk04FuwYIH07NlTjh49Kjly5JC33nrLV/p9//33TeZN2zQbp7R8rNk+Hat3++23y/jx4035WIMvpQGaXvNytm/fLh9++KEJMjX7qPT5sUnLxQULFjT38WYMn3vuOfn222+lXr16vu/RgFODx0aNGsnrr78uZcqU8T0zWjOYGzdulOeffz5AP0EASH8EgACuimb2NNum2T0N7h544AF55plnzFjAatWq+Y3727Bhg+zcudNkABOLi4uT3377TWJjY02Wrm7dur5jmTNnljp16lxSBvbS7FymTJlM0JZS2oezZ89KkyZN/No1C1mrVi3zWjOJifuhvMEiAIQKAkAAV0XHxmm2TAM9HeunAZuXZgATO336tNSuXVtmzJhxyXUKFChw1SXn1NJ+qC+//FKuueYav2M6hhAAbEEACOCqaJCnky5S4tprr5UPPvjAlGMjIyOTPadw4cKyatUquemmm8y+Limzdu1a873J0SyjZh517J63BJyYNwOpk0u8KleubAK9PXv2XDZzWKlSJTOZJbGVK1em6H0CQEbBJBAAAde+fXvJnz+/mfmrk0BiYmLM2L9evXrJvn37zDm9e/eWMWPGyLx582Tr1q3yxBNPXHENv5IlS0qHDh2kc+fO5nu819RxgUpnJ+t4Qy1V67hEzf5pCXrAgAFm4se7775rys8///yzvPrqq2ZfdevWTXbs2CFPPvmkmUAyc+ZMMzkFAEIJASCAgMuePbssXbpUihcvbiZ5aJatS5cuZgygNyPYv39/eeihh0xQp2PuNFhr3br1Fa+rJei7777bBIsVK1aURx99VM6cOWOOaYl3+PDhZgZvoUKFpEePHqZdF5IeMmSImQ2s/dCZyFoS1mVhlPZRZxBrUKlLxOhkFJ04AgChxPFcboQ1AAAAQhIZQAAAAMsQAAIAAFiGABAAAMAyBIAAAACWIQAEAACwDAEgAACAZQgAAQAALEMACAAAYBkCQAAAAMsQAAIAAFiGABAAAEDs8v8Av5KeI1wUVLUAAAAASUVORK5CYII=",
=======
      "image/png": "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",
>>>>>>> Stashed changes
      "text/plain": [
       "<Figure size 800x600 with 2 Axes>"
      ]
     },
     "metadata": {},
     "output_type": "display_data"
    },
    {
     "name": "stderr",
     "output_type": "stream",
     "text": [
      "\u001b[34m\u001b[1mwandb\u001b[0m: \u001b[32m\u001b[41mERROR\u001b[0m The nbformat package was not found. It is required to save notebook history.\n"
     ]
    },
    {
     "name": "stdout",
     "output_type": "stream",
     "text": [
<<<<<<< Updated upstream
      "##################################################\n",
      "Saving the model...\n",
      "\n",
      "################################################## \n",
      "\n",
      "Model saved to c:\\Users\\dango\\OneDrive - UWE Bristol\\projects\\thesis-project\\models\\base_strata_aug_Xception-class_weights.pth\n"
=======
      "Model saved to c:\\Users\\dango\\OneDrive - UWE Bristol\\projects\\thesis-project\\models\\ViT-strata-aug-class_weights.pth\n"
>>>>>>> Stashed changes
     ]
    },
    {
     "data": {
      "text/html": [],
      "text/plain": [
       "<IPython.core.display.HTML object>"
      ]
     },
     "metadata": {},
     "output_type": "display_data"
    },
    {
     "data": {
      "text/html": [
<<<<<<< Updated upstream
       "<br>    <style><br>        .wandb-row {<br>            display: flex;<br>            flex-direction: row;<br>            flex-wrap: wrap;<br>            justify-content: flex-start;<br>            width: 100%;<br>        }<br>        .wandb-col {<br>            display: flex;<br>            flex-direction: column;<br>            flex-basis: 100%;<br>            flex: 1;<br>            padding: 10px;<br>        }<br>    </style><br><div class=\"wandb-row\"><div class=\"wandb-col\"><h3>Run history:</h3><br/><table class=\"wandb\"><tr><td>accuracy</td><td>▁</td></tr><tr><td>epoch</td><td>▁▁▁▁▁▁▁▂▂▂▂▂▂▂▂█▄▄▄▄▄▄▄▄▄▅▅▅▅▅▅▅▅▅▇▇▇▇▇▇</td></tr><tr><td>roc_auc_score</td><td>▁</td></tr><tr><td>train_accuracy</td><td>▁▁▂▂▃▅▅▅▅▆▇▇▇▇▇▇▇▇▇▇▇▇▇▇▇▇▇▇████████████</td></tr><tr><td>train_loss</td><td>████▇▇▇▇▆▆▅▄▄▄▄▅▅▅▇▅▄▄▅▄▄▄▄▃▃▃▃▃▃▃▁▂▂▂▂▂</td></tr><tr><td>validation_accuracy</td><td>▁▃▆▆█</td></tr><tr><td>validation_auc</td><td>▂▂█▆▁</td></tr><tr><td>validation_loss</td><td>▂▃▁▁█</td></tr></table><br/></div><div class=\"wandb-col\"><h3>Run summary:</h3><br/><table class=\"wandb\"><tr><td>accuracy</td><td>77.27273</td></tr><tr><td>epoch</td><td>6</td></tr><tr><td>phase</td><td>Validation</td></tr><tr><td>roc_auc_score</td><td>0.61645</td></tr><tr><td>train_accuracy</td><td>87.59542</td></tr><tr><td>train_loss</td><td>0.3209</td></tr><tr><td>validation_accuracy</td><td>78.62595</td></tr><tr><td>validation_auc</td><td>0.62644</td></tr><tr><td>validation_loss</td><td>1.96829</td></tr></table><br/></div></div>"
=======
       "<br>    <style><br>        .wandb-row {<br>            display: flex;<br>            flex-direction: row;<br>            flex-wrap: wrap;<br>            justify-content: flex-start;<br>            width: 100%;<br>        }<br>        .wandb-col {<br>            display: flex;<br>            flex-direction: column;<br>            flex-basis: 100%;<br>            flex: 1;<br>            padding: 10px;<br>        }<br>    </style><br><div class=\"wandb-row\"><div class=\"wandb-col\"><h3>Run history:</h3><br/><table class=\"wandb\"><tr><td>accuracy</td><td>▁</td></tr><tr><td>epoch</td><td>▁▁▁▁▁▁▁▁▂▂▂▂▂▂▂█▄▄▄▄▄▄▄▄▄▅▅▅▅▅▇▇▇▇▇▇▇▇▇█</td></tr><tr><td>roc_auc_score</td><td>▁</td></tr><tr><td>train_accuracy</td><td>▁▁▂▂▃▄▄▄▄▄▇▇▇▇▇▇████████████████████████</td></tr><tr><td>train_loss</td><td>█▇▇▇▇▇▇▆▆▆▂▂▂▂▂▁▁▁▁▁▁▁▁▁▁▁▁▁▁▁▁▁▁▁▁▁▁▁▁▁</td></tr><tr><td>validation_accuracy</td><td>▅▇█▇▁</td></tr><tr><td>validation_auc</td><td>▃█▁▃▂</td></tr><tr><td>validation_loss</td><td>▁▂█▆▂</td></tr></table><br/></div><div class=\"wandb-col\"><h3>Run summary:</h3><br/><table class=\"wandb\"><tr><td>accuracy</td><td>66.66667</td></tr><tr><td>epoch</td><td>6</td></tr><tr><td>phase</td><td>Validation</td></tr><tr><td>roc_auc_score</td><td>0.66026</td></tr><tr><td>train_accuracy</td><td>99.42748</td></tr><tr><td>train_loss</td><td>0.01256</td></tr><tr><td>validation_accuracy</td><td>73.28244</td></tr><tr><td>validation_auc</td><td>0.72408</td></tr><tr><td>validation_loss</td><td>0.78108</td></tr></table><br/></div></div>"
>>>>>>> Stashed changes
      ],
      "text/plain": [
       "<IPython.core.display.HTML object>"
      ]
     },
     "metadata": {},
     "output_type": "display_data"
    },
    {
     "data": {
      "text/html": [
<<<<<<< Updated upstream
       " View run <strong style=\"color:#cdcd00\">base_strata_aug_Xception-class_weights</strong> at: <a href='https://wandb.ai/the_lab/skin_cancer_detection/runs/lhsj5kcd' target=\"_blank\">https://wandb.ai/the_lab/skin_cancer_detection/runs/lhsj5kcd</a><br> View project at: <a href='https://wandb.ai/the_lab/skin_cancer_detection' target=\"_blank\">https://wandb.ai/the_lab/skin_cancer_detection</a><br>Synced 5 W&B file(s), 2 media file(s), 4 artifact file(s) and 0 other file(s)"
=======
       " View run <strong style=\"color:#cdcd00\">ViT-strata-aug-class_weights</strong> at: <a href='https://wandb.ai/the_lab/skin_cancer_detection/runs/ujft0960' target=\"_blank\">https://wandb.ai/the_lab/skin_cancer_detection/runs/ujft0960</a><br> View project at: <a href='https://wandb.ai/the_lab/skin_cancer_detection' target=\"_blank\">https://wandb.ai/the_lab/skin_cancer_detection</a><br>Synced 5 W&B file(s), 2 media file(s), 4 artifact file(s) and 0 other file(s)"
>>>>>>> Stashed changes
      ],
      "text/plain": [
       "<IPython.core.display.HTML object>"
      ]
     },
     "metadata": {},
     "output_type": "display_data"
    },
    {
     "data": {
      "text/html": [
<<<<<<< Updated upstream
       "Find logs at: <code>.\\wandb\\run-20250708_105226-lhsj5kcd\\logs</code>"
=======
       "Find logs at: <code>.\\wandb\\run-20250712_130500-ujft0960\\logs</code>"
>>>>>>> Stashed changes
      ],
      "text/plain": [
       "<IPython.core.display.HTML object>"
      ]
     },
     "metadata": {},
     "output_type": "display_data"
    }
   ],
   "source": [
    "# Initialise the constants\n",
<<<<<<< Updated upstream
    "# experiment_name = 'ViT-class_weights-fine_tuned'\n",
    "experiment_name = 'base_strata_aug_Xception-class_weights'\n",
=======
    "experiment_name = f'{model_type}-strata-aug-class_weights'\n",
>>>>>>> Stashed changes
    "\n",
    "hyperparameters = {\n",
    "    'epochs': 5,\n",
    "    'learning_rate': 1e-3,\n",
    "    'batch_size': batch_size,\n",
    "    'use_class_weights': True,\n",
    "    'fine_tune': False\n",
    "}\n",
    "\n",
    "# Perform the experiment\n",
    "experiment(\n",
    "    model=model,\n",
    "    data_loaders=(train_loader, val_loader, test_loader),\n",
    "    hyperparameters=hyperparameters,\n",
    "    experiment_name=experiment_name,\n",
    "    save_model=True,\n",
    "    save_model_as=f'{experiment_name}.pth'\n",
    ")"
   ]
  },
  {
   "cell_type": "markdown",
   "id": "8dccb520",
   "metadata": {},
   "source": [
    "## Test on HAM"
   ]
  },
  {
   "cell_type": "code",
   "execution_count": 18,
   "id": "cfff0e17",
   "metadata": {},
   "outputs": [
    {
     "name": "stdout",
     "output_type": "stream",
     "text": [
      "              precision    recall  f1-score   support\n",
      "\n",
      "      Benign       0.81      0.18      0.30      3945\n",
      "   Malignant       0.22      0.84      0.35      1070\n",
      "\n",
      "    accuracy                           0.32      5015\n",
      "   macro avg       0.51      0.51      0.32      5015\n",
      "weighted avg       0.68      0.32      0.31      5015\n",
      "\n",
      "ROC AUC Score: 0.5113482107956363\n",
      "Test Accuracy: 32.28%\n"
     ]
    },
    {
     "data": {
      "image/png": "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",
      "text/plain": [
       "<Figure size 800x600 with 2 Axes>"
      ]
     },
     "metadata": {},
     "output_type": "display_data"
    }
   ],
   "source": [
    "ham_path = root_path / 'data' / 'processed' / 'ham' / 'ViT' / 'ham_dataset.pt'\n",
    "ham_data = torch.load(ham_path)\n",
    "ham_images, ham_labels = ham_data['images'], ham_data['labels']\n",
    "ham_dataset = TensorDataset(ham_images, ham_labels)\n",
    "ham_loader = DataLoader(ham_dataset, batch_size=batch_size, shuffle=False)\n",
    "\n",
    "test_model(\n",
    "    model=model,\n",
    "    test_loader=ham_loader,\n",
    ")"
   ]
  }
 ],
 "metadata": {
  "kernelspec": {
   "display_name": "venv",
   "language": "python",
   "name": "python3"
  },
  "language_info": {
   "codemirror_mode": {
    "name": "ipython",
    "version": 3
   },
   "file_extension": ".py",
   "mimetype": "text/x-python",
   "name": "python",
   "nbconvert_exporter": "python",
   "pygments_lexer": "ipython3",
   "version": "3.10.11"
  }
 },
 "nbformat": 4,
 "nbformat_minor": 5
}
