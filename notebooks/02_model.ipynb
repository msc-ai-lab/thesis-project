{
 "cells": [
  {
   "cell_type": "markdown",
   "id": "04a25985",
   "metadata": {},
   "source": [
    "## Import Libraries"
   ]
  },
  {
   "cell_type": "code",
   "execution_count": 7,
   "id": "0bc9c11d",
   "metadata": {},
   "outputs": [],
   "source": [
    "# Standard library imports\n",
    "import os\n",
    "\n",
    "# Third-party imports\n",
    "import numpy as np\n",
    "import pandas as pd\n",
    "import matplotlib.pyplot as plt\n",
    "import seaborn as sns\n",
    "from sklearn.model_selection import train_test_split\n",
    "from sklearn.utils.class_weight import compute_class_weight\n",
    "from sklearn.metrics import classification_report, confusion_matrix\n",
    "import timm\n",
    "import torch\n",
    "import torch.nn as nn\n",
    "import torch.optim as optim\n",
    "from torchvision import transforms\n",
    "from torch.utils.data import Dataset, DataLoader\n",
    "from PIL import Image\n",
    "from tqdm import tqdm"
   ]
  },
  {
   "cell_type": "markdown",
   "id": "ffbe63bb",
   "metadata": {},
   "source": [
    "## Constants"
   ]
  },
  {
   "cell_type": "code",
   "execution_count": 8,
   "id": "54a73123",
   "metadata": {},
   "outputs": [],
   "source": [
    "num_classes = 2 # Malignant and Benign\n",
    "random_state = 42\n",
    "\n",
    "# Define paths\n",
    "metadata_path = os.path.join(os.getcwd(), '../data/metadata_updated.csv')\n",
    "image_path = os.path.join(os.getcwd(), '../data/images')\n",
    "\n",
    "# Set device\n",
    "device = torch.device('cuda' if torch.cuda.is_available() else 'cpu')"
   ]
  },
  {
   "cell_type": "markdown",
   "id": "726cf8cd",
   "metadata": {},
   "source": [
    "## Load Metadata"
   ]
  },
  {
   "cell_type": "code",
   "execution_count": 9,
   "id": "fe8f6475",
   "metadata": {},
   "outputs": [],
   "source": [
    "metadata = pd.read_csv(metadata_path)"
   ]
  },
  {
   "cell_type": "markdown",
   "id": "cbf43bc0",
   "metadata": {},
   "source": [
    "## Split Training and Testing Set"
   ]
  },
  {
   "cell_type": "code",
   "execution_count": 10,
   "id": "0c0562f5",
   "metadata": {},
   "outputs": [],
   "source": [
    "# Split the dataset into training, validation, and test sets\n",
    "train_df, val_df = train_test_split(\n",
    "  metadata, \n",
    "  test_size=0.4, \n",
    "  stratify=metadata['malignant'], \n",
    "  random_state=random_state\n",
    ")\n",
    "\n",
    "val_df, test_df = train_test_split(\n",
    "  val_df,\n",
    "  test_size=0.5,\n",
    "  stratify=val_df['malignant'],\n",
    "  random_state=random_state\n",
    ")"
   ]
  },
  {
   "cell_type": "markdown",
   "id": "be76ac0e",
   "metadata": {},
   "source": [
    "## Prepare Dataset"
   ]
  },
  {
   "cell_type": "code",
   "execution_count": 11,
   "id": "391322eb",
   "metadata": {},
   "outputs": [],
   "source": [
    "class SkinDataset(Dataset):\n",
    "    \"\"\"\n",
    "    Custom Dataset for loading skin images and their labels.\n",
    "    \"\"\"\n",
    "    def __init__(self, dataframe, img_dir, transform=None):\n",
    "        self.dataframe = dataframe.reset_index(drop=True)\n",
    "        self.img_dir = img_dir\n",
    "        self.transform = transform\n",
    "\n",
    "    def __len__(self):\n",
    "        return len(self.dataframe)\n",
    "\n",
    "    def __getitem__(self, idx):\n",
    "        img_path = os.path.join(self.img_dir, self.dataframe.loc[idx, 'DDI_file'])\n",
    "        label = self.dataframe.loc[idx, 'malignant']\n",
    "        image = Image.open(img_path).convert(\"RGB\")\n",
    "        if self.transform:\n",
    "            image = self.transform(image)\n",
    "        return image, label"
   ]
  },
  {
   "cell_type": "markdown",
   "id": "d2053d09",
   "metadata": {},
   "source": [
    "# Transformations"
   ]
  },
  {
   "cell_type": "code",
   "execution_count": 23,
   "id": "8435a9fc",
   "metadata": {},
   "outputs": [],
   "source": [
    "# Define image transformations\n",
    "train_transform = transforms.Compose([\n",
    "    transforms.Resize((299, 299)),\n",
    "    transforms.ToTensor(),\n",
    "    transforms.Normalize(mean=[0.485, 0.456, 0.406], std=[0.229, 0.224, 0.225]),\n",
    "    transforms.RandomHorizontalFlip(p=0.1),\n",
    "    transforms.RandomVerticalFlip(p=0.1),\n",
    "    transforms.RandomAffine(degrees=20, translate=(0.1, 0.1), scale=(0.9, 1.1)),\n",
    "    transforms.ColorJitter(brightness=0.2, contrast=0.2, saturation=0.2),\n",
    "    transforms.RandomErasing(p=0.1, scale=(0.02, 0.1)),\n",
    "])\n",
    "\n",
    "test_transform = transforms.Compose([\n",
    "    transforms.Resize((299, 299)),\n",
    "    transforms.ToTensor(),\n",
    "])"
   ]
  },
  {
   "cell_type": "markdown",
   "id": "35b2e8b9",
   "metadata": {},
   "source": [
    "## Create Data Loaders"
   ]
  },
  {
   "cell_type": "code",
   "execution_count": 13,
   "id": "605bcf27",
   "metadata": {},
   "outputs": [],
   "source": [
    "batch_size = 16\n",
    "\n",
    "# Create datasets\n",
    "train_dataset = SkinDataset(train_df, image_path, transform=train_transform)\n",
    "val_dataset = SkinDataset(val_df, image_path, transform=train_transform)\n",
    "test_dataset = SkinDataset(test_df, image_path, transform=test_transform)\n",
    "\n",
    "# Create data loaders\n",
    "train_loader = DataLoader(train_dataset, batch_size=batch_size, shuffle=True)\n",
    "val_loader = DataLoader(val_dataset, batch_size=batch_size, shuffle=False)\n",
    "test_loader = DataLoader(test_dataset, batch_size=batch_size, shuffle=False)"
   ]
  },
  {
   "cell_type": "markdown",
   "id": "0ba2738d",
   "metadata": {},
   "source": [
    "## Initialise Model"
   ]
  },
  {
   "cell_type": "code",
   "execution_count": 14,
   "id": "ec4ab12b",
   "metadata": {},
   "outputs": [
    {
     "name": "stderr",
     "output_type": "stream",
     "text": [
      "c:\\Users\\dango\\OneDrive - UWE Bristol\\projects\\thesis-project\\env\\lib\\site-packages\\timm\\models\\_factory.py:126: UserWarning: Mapping deprecated model name xception to current legacy_xception.\n",
      "  model = create_fn(\n"
     ]
    }
   ],
   "source": [
    "model = timm.create_model('xception', pretrained=True)\n",
    "model.fc = nn.Linear(model.fc.in_features, num_classes)"
   ]
  },
  {
   "cell_type": "markdown",
   "id": "8d760451",
   "metadata": {},
   "source": [
    "## Train the Model"
   ]
  },
  {
   "cell_type": "code",
   "execution_count": null,
   "id": "212905c8",
   "metadata": {},
   "outputs": [
    {
     "name": "stderr",
     "output_type": "stream",
     "text": [
      "Epoch [1/10]: 100%|████████████████████████████████████████████| 25/25 [02:44<00:00,  6.59s/it, loss=0.5123, acc=78.88%]\n",
      "Validation: 100%|████████████████████████████████████████| 9/9 [00:20<00:00,  2.29s/it, val_loss=0.8840, val_acc=67.94%]\n",
      "Epoch [2/10]: 100%|████████████████████████████████████████████| 25/25 [03:14<00:00,  7.79s/it, loss=0.4510, acc=79.13%]\n",
      "Validation: 100%|████████████████████████████████████████| 9/9 [00:26<00:00,  2.96s/it, val_loss=0.7190, val_acc=68.70%]\n",
      "Epoch [3/10]: 100%|████████████████████████████████████████████| 25/25 [03:59<00:00,  9.57s/it, loss=0.4491, acc=81.17%]\n",
      "Validation: 100%|████████████████████████████████████████| 9/9 [00:33<00:00,  3.71s/it, val_loss=0.6236, val_acc=70.23%]\n",
      "Epoch [4/10]: 100%|████████████████████████████████████████████| 25/25 [04:22<00:00, 10.49s/it, loss=0.4429, acc=79.39%]\n",
      "Validation: 100%|████████████████████████████████████████| 9/9 [00:32<00:00,  3.59s/it, val_loss=0.5676, val_acc=77.10%]\n",
      "Epoch [5/10]: 100%|████████████████████████████████████████████| 25/25 [04:19<00:00, 10.37s/it, loss=0.4068, acc=80.15%]\n",
      "Validation: 100%|████████████████████████████████████████| 9/9 [00:33<00:00,  3.77s/it, val_loss=0.7968, val_acc=70.99%]\n",
      "Epoch [6/10]: 100%|████████████████████████████████████████████| 25/25 [04:11<00:00, 10.04s/it, loss=0.4427, acc=82.44%]\n",
      "Validation: 100%|████████████████████████████████████████| 9/9 [00:26<00:00,  2.92s/it, val_loss=0.5316, val_acc=76.34%]\n",
      "Epoch [7/10]: 100%|████████████████████████████████████████████| 25/25 [04:01<00:00,  9.67s/it, loss=0.3607, acc=82.95%]\n",
      "Validation: 100%|████████████████████████████████████████| 9/9 [00:33<00:00,  3.75s/it, val_loss=1.0223, val_acc=64.12%]\n",
      "Epoch [8/10]: 100%|████████████████████████████████████████████| 25/25 [04:24<00:00, 10.57s/it, loss=0.4570, acc=79.64%]\n",
      "Validation: 100%|████████████████████████████████████████| 9/9 [00:32<00:00,  3.64s/it, val_loss=0.8320, val_acc=67.18%]\n",
      "Epoch [9/10]: 100%|████████████████████████████████████████████| 25/25 [04:21<00:00, 10.46s/it, loss=0.4198, acc=80.92%]\n",
      "Validation: 100%|████████████████████████████████████████| 9/9 [00:31<00:00,  3.54s/it, val_loss=0.6017, val_acc=64.89%]\n",
      "Epoch [10/10]: 100%|███████████████████████████████████████████| 25/25 [04:18<00:00, 10.34s/it, loss=0.3689, acc=84.99%]\n",
      "Validation: 100%|████████████████████████████████████████| 9/9 [00:29<00:00,  3.25s/it, val_loss=0.5945, val_acc=73.28%]\n"
     ]
    }
   ],
   "source": [
    "epochs = 10\n",
    "learning_rate = 1e-3\n",
    "optimizer = optim.Adam(model.parameters(), lr=learning_rate)\n",
    "\n",
    "# Assuming y is your target array\n",
    "class_weights = compute_class_weight('balanced', classes=np.unique(train_df['malignant']), y=train_df['malignant'])\n",
    "class_weights = torch.tensor(class_weights, dtype=torch.float)\n",
    "\n",
    "# Define the loss function with class weights\n",
    "criterion = nn.CrossEntropyLoss()\n",
    "\n",
    "# Move model to device\n",
    "model = model.to(device)\n",
    "\n",
    "# For tracking metrics\n",
    "train_losses = []\n",
    "train_accuracies = []\n",
    "\n",
    "for epoch in range(epochs):\n",
    "    # Set model to training mode\n",
    "    model.train()\n",
    "    running_loss = 0.0\n",
    "    correct = 0\n",
    "    total = 0\n",
    "    \n",
    "    # Create progress bar for this epoch\n",
    "    train_pbar = tqdm(train_loader, desc=f\"Epoch [{epoch+1}/{epochs}]\", ncols=120)\n",
    "    \n",
    "    # Training loop\n",
    "    for i, (images, labels) in enumerate(train_pbar):\n",
    "        # Move data to device\n",
    "        images, labels = images.to(device), labels.to(device)\n",
    "        \n",
    "        # Zero gradients\n",
    "        optimizer.zero_grad()\n",
    "        \n",
    "        # Forward pass\n",
    "        outputs = model(images)\n",
    "        \n",
    "        # Compute loss\n",
    "        loss = criterion(outputs, labels)\n",
    "        \n",
    "        # Back propagation\n",
    "        loss.backward()\n",
    "        \n",
    "        # Update weights\n",
    "        optimizer.step()\n",
    "        \n",
    "        # Update statistics\n",
    "        running_loss += loss.item()\n",
    "        mean_loss = running_loss / (i + 1)\n",
    "        \n",
    "        # Calculate accuracy\n",
    "        _, predicted = torch.max(outputs.data, 1)\n",
    "        total += labels.size(0)\n",
    "        correct += (predicted == labels).sum().item()\n",
    "        accuracy = 100 * correct / total\n",
    "\n",
    "        # Update progress bar with training metrics    \n",
    "        train_pbar.set_postfix({\n",
    "            'loss': f'{mean_loss:.4f}', \n",
    "            'acc': f'{accuracy:.2f}%',\n",
    "        })\n",
    "    \n",
    "    # Validation step\n",
    "    with torch.no_grad():\n",
    "        model.eval()\n",
    "        val_loss = 0.0\n",
    "        val_correct = 0\n",
    "        val_total = 0\n",
    "\n",
    "        # Create progress bar for validation\n",
    "        val_pbar = tqdm(val_loader, desc=\"Validation\", ncols=120)\n",
    "\n",
    "        # Validation loop\n",
    "        for images, labels in val_pbar:\n",
    "            images, labels = images.to(device), labels.to(device)\n",
    "            outputs = model(images)\n",
    "            loss = criterion(outputs, labels)\n",
    "            val_loss += loss.item()\n",
    "\n",
    "            _, predicted = torch.max(outputs.data, 1)\n",
    "            val_total += labels.size(0)\n",
    "            val_correct += (predicted == labels).sum().item()\n",
    "\n",
    "            avg_val_loss = val_loss / len(val_loader)\n",
    "            val_accuracy = 100 * val_correct / val_total\n",
    "\n",
    "            # Update progress bar with validation metrics\n",
    "            val_pbar.set_postfix({\n",
    "                'val_loss': f'{avg_val_loss:.4f}', \n",
    "                'val_acc': f'{val_accuracy:.2f}%'\n",
    "            })"
   ]
  },
  {
   "cell_type": "markdown",
   "id": "cdc6ce98",
   "metadata": {},
   "source": [
    "## Save the Model"
   ]
  },
  {
   "cell_type": "code",
   "execution_count": 20,
   "id": "4a513ccb",
   "metadata": {},
   "outputs": [],
   "source": [
    "torch.save(model.state_dict(), os.path.join(os.getcwd(), '../models/xception_skin_cancer.pth'))"
   ]
  },
  {
   "cell_type": "markdown",
   "id": "e27557a5",
   "metadata": {},
   "source": [
    "## Load the Model"
   ]
  },
  {
   "cell_type": "code",
   "execution_count": null,
   "id": "4db06b8e",
   "metadata": {},
   "outputs": [],
   "source": [
    "# model = torch.load(os.path.join(os.getcwd(), '../models/xception_skin_cancer.pth'))"
   ]
  },
  {
   "cell_type": "markdown",
   "id": "e241a4ee",
   "metadata": {},
   "source": [
    "## Test the Model"
   ]
  },
  {
   "cell_type": "code",
   "execution_count": 21,
   "id": "f47093bf",
   "metadata": {},
   "outputs": [
    {
     "name": "stdout",
     "output_type": "stream",
     "text": [
      "              precision    recall  f1-score   support\n",
      "\n",
      "      Benign       0.74      0.99      0.85        97\n",
      "   Malignant       0.50      0.03      0.05        35\n",
      "\n",
      "    accuracy                           0.73       132\n",
      "   macro avg       0.62      0.51      0.45       132\n",
      "weighted avg       0.68      0.73      0.64       132\n",
      "\n"
     ]
    },
    {
     "data": {
      "image/png": "[encoded data removed]",
      "text/plain": [
       "<Figure size 800x600 with 2 Axes>"
      ]
     },
     "metadata": {},
     "output_type": "display_data"
    }
   ],
   "source": [
    "# Initialize lists to store predictions and labels\n",
    "all_preds = []\n",
    "all_labels = []\n",
    "\n",
    "# Evaluate the model on the test set\n",
    "model.eval()\n",
    "with torch.no_grad():\n",
    "    # Loop through the test set\n",
    "    for images, labels in test_loader:\n",
    "        # Move data to device\n",
    "        images, labels = images.to(device), labels.to(device)\n",
    "\n",
    "        # Forward pass\n",
    "        outputs = model(images)\n",
    "\n",
    "        # Get predictions\n",
    "        preds = torch.argmax(outputs, dim=1)\n",
    "\n",
    "        # Store predictions and labels\n",
    "        all_preds.extend(preds.cpu().numpy())\n",
    "        all_labels.extend(labels.cpu().numpy())\n",
    "\n",
    "# Classification report\n",
    "print(classification_report(all_labels, all_preds, target_names=['Benign', 'Malignant']))\n",
    "\n",
    "# Compute confusion matrix\n",
    "cm = confusion_matrix(all_labels, all_preds)\n",
    "\n",
    "# Plot confusion matrix\n",
    "plt.figure(figsize=(8, 6))\n",
    "sns.heatmap(cm, annot=True, fmt='d', cmap='Blues', \n",
    "            xticklabels=['Benign', 'Malignant'],\n",
    "            yticklabels=['Benign', 'Malignant'])\n",
    "plt.xlabel('Predicted')\n",
    "plt.ylabel('True label')\n",
    "plt.title('Confusion Matrix')\n",
    "plt.show()"
   ]
  },
  {
   "cell_type": "code",
   "execution_count": null,
   "id": "c4926943",
   "metadata": {},
   "outputs": [],
   "source": []
  }
 ],
 "metadata": {
  "kernelspec": {
   "display_name": "env",
   "language": "python",
   "name": "python3"
  },
  "language_info": {
   "codemirror_mode": {
    "name": "ipython",
    "version": 3
   },
   "file_extension": ".py",
   "mimetype": "text/x-python",
   "name": "python",
   "nbconvert_exporter": "python",
   "pygments_lexer": "ipython3",
   "version": "3.10.6"
  }
 },
 "nbformat": 4,
 "nbformat_minor": 5
}
