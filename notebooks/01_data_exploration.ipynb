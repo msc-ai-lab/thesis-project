{
 "cells": [
  {
   "cell_type": "markdown",
   "id": "003ce61d",
   "metadata": {},
   "source": [
    "## Prerequisites\n",
    "\n",
    "This project uses the publicly available [Diverse Dermatology Images (DDI) dataset](https://aimi.stanford.edu/datasets/ddi-diverse-dermatology-images) curated by Stanford University. The DDI dataset contains pathologically confirmed dermatological images representing diverse skin tones.\n",
    "\n",
    "### Dataset Requirements\n",
    "- The complete DDI dataset must be downloaded from the official Stanford repository\n",
    "- Images and metadata must be stored in the `data` folder in your project root directory\n",
    "- Expected structure:\n",
    "  - `data/images/` - Contains all dermatological images\n",
    "  - `data/ddi_metadata.csv` - Contains metadata and ground truth labels\n",
    "\n",
    "### Environment Setup\n",
    "Install the required packages from `requirements.txt` file.\n",
    "\n",
    "### Notebook Structure\n",
    "\n",
    "This notebook follows a structured workflow:\n",
    "- Loading required libraries\n",
    "- Defining constants\n",
    "- Loading and exploring metadata\n",
    "- Analysing class distribution\n",
    "- Converting labels to numeric format\n",
    "- Storing processed data for model training"
   ]
  },
  {
   "cell_type": "markdown",
   "id": "7c5d8bf7",
   "metadata": {},
   "source": [
    "## Libraries"
   ]
  },
  {
   "cell_type": "code",
   "execution_count": 1,
   "id": "47fd5ad1",
   "metadata": {},
   "outputs": [],
   "source": [
    "# Standard library imports\n",
    "import os\n",
    "from pathlib import Path\n",
    "\n",
    "# Third-party imports\n",
    "import pandas as pd\n",
    "import matplotlib.pyplot as plt"
   ]
  },
  {
   "cell_type": "markdown",
   "id": "af3f4e8a",
   "metadata": {},
   "source": [
    "## Constants"
   ]
  },
  {
   "cell_type": "code",
   "execution_count": 2,
   "id": "aff718de",
   "metadata": {},
   "outputs": [],
   "source": [
    "random_state = 42\n",
    "\n",
    "# Data paths\n",
    "root_path = Path.cwd().parent\n",
    "metadata_path = root_path / 'data' / 'raw_dataset' / 'ddi_metadata.csv'\n",
    "image_path = root_path / 'data' / 'raw_dataset' / 'images'"
   ]
  },
  {
   "cell_type": "markdown",
   "id": "147c4321",
   "metadata": {},
   "source": [
    "## Load Metadata"
   ]
  },
  {
   "cell_type": "code",
   "execution_count": 3,
   "id": "4b1cd87b",
   "metadata": {},
   "outputs": [
    {
     "data": {
      "text/html": [
       "<div>\n",
       "<style scoped>\n",
       "    .dataframe tbody tr th:only-of-type {\n",
       "        vertical-align: middle;\n",
       "    }\n",
       "\n",
       "    .dataframe tbody tr th {\n",
       "        vertical-align: top;\n",
       "    }\n",
       "\n",
       "    .dataframe thead th {\n",
       "        text-align: right;\n",
       "    }\n",
       "</style>\n",
       "<table border=\"1\" class=\"dataframe\">\n",
       "  <thead>\n",
       "    <tr style=\"text-align: right;\">\n",
       "      <th></th>\n",
       "      <th>Unnamed: 0</th>\n",
       "      <th>DDI_ID</th>\n",
       "      <th>DDI_file</th>\n",
       "      <th>skin_tone</th>\n",
       "      <th>malignant</th>\n",
       "      <th>disease</th>\n",
       "    </tr>\n",
       "  </thead>\n",
       "  <tbody>\n",
       "    <tr>\n",
       "      <th>0</th>\n",
       "      <td>0</td>\n",
       "      <td>1</td>\n",
       "      <td>000001.png</td>\n",
       "      <td>56</td>\n",
       "      <td>True</td>\n",
       "      <td>melanoma-in-situ</td>\n",
       "    </tr>\n",
       "    <tr>\n",
       "      <th>1</th>\n",
       "      <td>1</td>\n",
       "      <td>2</td>\n",
       "      <td>000002.png</td>\n",
       "      <td>56</td>\n",
       "      <td>True</td>\n",
       "      <td>melanoma-in-situ</td>\n",
       "    </tr>\n",
       "    <tr>\n",
       "      <th>2</th>\n",
       "      <td>2</td>\n",
       "      <td>3</td>\n",
       "      <td>000003.png</td>\n",
       "      <td>56</td>\n",
       "      <td>True</td>\n",
       "      <td>mycosis-fungoides</td>\n",
       "    </tr>\n",
       "    <tr>\n",
       "      <th>3</th>\n",
       "      <td>3</td>\n",
       "      <td>4</td>\n",
       "      <td>000004.png</td>\n",
       "      <td>56</td>\n",
       "      <td>True</td>\n",
       "      <td>squamous-cell-carcinoma-in-situ</td>\n",
       "    </tr>\n",
       "    <tr>\n",
       "      <th>4</th>\n",
       "      <td>4</td>\n",
       "      <td>5</td>\n",
       "      <td>000005.png</td>\n",
       "      <td>12</td>\n",
       "      <td>True</td>\n",
       "      <td>basal-cell-carcinoma</td>\n",
       "    </tr>\n",
       "    <tr>\n",
       "      <th>...</th>\n",
       "      <td>...</td>\n",
       "      <td>...</td>\n",
       "      <td>...</td>\n",
       "      <td>...</td>\n",
       "      <td>...</td>\n",
       "      <td>...</td>\n",
       "    </tr>\n",
       "    <tr>\n",
       "      <th>651</th>\n",
       "      <td>651</td>\n",
       "      <td>652</td>\n",
       "      <td>000652.png</td>\n",
       "      <td>34</td>\n",
       "      <td>False</td>\n",
       "      <td>pyogenic-granuloma</td>\n",
       "    </tr>\n",
       "    <tr>\n",
       "      <th>652</th>\n",
       "      <td>652</td>\n",
       "      <td>653</td>\n",
       "      <td>000653.png</td>\n",
       "      <td>34</td>\n",
       "      <td>False</td>\n",
       "      <td>melanocytic-nevi</td>\n",
       "    </tr>\n",
       "    <tr>\n",
       "      <th>653</th>\n",
       "      <td>653</td>\n",
       "      <td>654</td>\n",
       "      <td>000654.png</td>\n",
       "      <td>34</td>\n",
       "      <td>False</td>\n",
       "      <td>acral-melanotic-macule</td>\n",
       "    </tr>\n",
       "    <tr>\n",
       "      <th>654</th>\n",
       "      <td>654</td>\n",
       "      <td>655</td>\n",
       "      <td>000655.png</td>\n",
       "      <td>34</td>\n",
       "      <td>True</td>\n",
       "      <td>squamous-cell-carcinoma</td>\n",
       "    </tr>\n",
       "    <tr>\n",
       "      <th>655</th>\n",
       "      <td>655</td>\n",
       "      <td>656</td>\n",
       "      <td>000656.png</td>\n",
       "      <td>34</td>\n",
       "      <td>True</td>\n",
       "      <td>basal-cell-carcinoma</td>\n",
       "    </tr>\n",
       "  </tbody>\n",
       "</table>\n",
       "<p>656 rows × 6 columns</p>\n",
       "</div>"
      ],
      "text/plain": [
       "     Unnamed: 0  DDI_ID    DDI_file  skin_tone  malignant  \\\n",
       "0             0       1  000001.png         56       True   \n",
       "1             1       2  000002.png         56       True   \n",
       "2             2       3  000003.png         56       True   \n",
       "3             3       4  000004.png         56       True   \n",
       "4             4       5  000005.png         12       True   \n",
       "..          ...     ...         ...        ...        ...   \n",
       "651         651     652  000652.png         34      False   \n",
       "652         652     653  000653.png         34      False   \n",
       "653         653     654  000654.png         34      False   \n",
       "654         654     655  000655.png         34       True   \n",
       "655         655     656  000656.png         34       True   \n",
       "\n",
       "                             disease  \n",
       "0                   melanoma-in-situ  \n",
       "1                   melanoma-in-situ  \n",
       "2                  mycosis-fungoides  \n",
       "3    squamous-cell-carcinoma-in-situ  \n",
       "4               basal-cell-carcinoma  \n",
       "..                               ...  \n",
       "651               pyogenic-granuloma  \n",
       "652                 melanocytic-nevi  \n",
       "653           acral-melanotic-macule  \n",
       "654          squamous-cell-carcinoma  \n",
       "655             basal-cell-carcinoma  \n",
       "\n",
       "[656 rows x 6 columns]"
      ]
     },
     "execution_count": 3,
     "metadata": {},
     "output_type": "execute_result"
    }
   ],
   "source": [
    "# Load metadata\n",
    "metadata = pd.read_csv(metadata_path)\n",
    "metadata"
   ]
  },
  {
   "cell_type": "markdown",
   "id": "df149e32",
   "metadata": {},
   "source": [
    "## Label Distribution\n",
    "\n",
    "Visualise the distribution of malignant and benign cases in our dataset, which is critical for understanding class imbalance. The histogram below shows the frequency of each class (malignant vs. benign) in our dataset. This information will help us determine appropriate strategies for handling imbalance during model training, such as resampling techniques or class weighting."
   ]
  },
  {
   "cell_type": "code",
   "execution_count": 4,
   "id": "406859c0",
   "metadata": {},
   "outputs": [
    {
     "data": {
      "image/png": "[encoded data removed]",
      "text/plain": [
       "<Figure size 640x480 with 1 Axes>"
      ]
     },
     "metadata": {},
     "output_type": "display_data"
    }
   ],
   "source": [
    "# Plot bar chart for label distribution\n",
    "metadata['malignant'].value_counts().plot(kind='bar', rot=0)\n",
    "plt.xlabel('Malignant')\n",
    "plt.ylabel('Count')\n",
    "plt.title('Label Distribution: Malignant')\n",
    "plt.show()"
   ]
  },
  {
   "cell_type": "markdown",
   "id": "3330fd32",
   "metadata": {},
   "source": [
    "## Data Imbalance Analysis\n",
    "\n",
    "The histogram above reveals a significant class imbalance in our dataset, with benign cases (label 'False') outnumbering malignant cases (label 'True'). This imbalance presents several challenges for model training:\n",
    "\n",
    "1. **Classification bias**: Models may develop a bias toward the majority class (benign), potentially misclassifying malignant samples\n",
    "2. **Performance metrics**: Accuracy alone would be misleading in this context, as a naive classifier predicting all samples as benign would still achieve high accuracy\n",
    "3. **Clinical implications**: In medical diagnostics, false negatives (missing actual malignant cases) can have serious consequences\n",
    "\n",
    "We'll need to address this imbalance through techniques such as:\n",
    "- Resampling methods (undersampling or oversampling)\n",
    "- Class weighting in the loss function\n",
    "- Specialised evaluation metrics (F1-score, precision-recall AUC)"
   ]
  },
  {
   "cell_type": "markdown",
   "id": "a75b7f2c",
   "metadata": {},
   "source": [
    "## Label Conversion"
   ]
  },
  {
   "cell_type": "markdown",
   "id": "1a05bafa",
   "metadata": {},
   "source": [
    "Converting categorical labels to numeric format is an essential preprocessing step for machine learning models. In our case, we're converting the 'malignant' boolean feature (True/False) to binary integers (1/0), where:\n",
    "- 1 represents malignant cases (positive class)\n",
    "- 0 represents benign cases (negative class)"
   ]
  },
  {
   "cell_type": "code",
   "execution_count": 5,
   "id": "63ef9a5e",
   "metadata": {},
   "outputs": [
    {
     "data": {
      "text/html": [
       "<div>\n",
       "<style scoped>\n",
       "    .dataframe tbody tr th:only-of-type {\n",
       "        vertical-align: middle;\n",
       "    }\n",
       "\n",
       "    .dataframe tbody tr th {\n",
       "        vertical-align: top;\n",
       "    }\n",
       "\n",
       "    .dataframe thead th {\n",
       "        text-align: right;\n",
       "    }\n",
       "</style>\n",
       "<table border=\"1\" class=\"dataframe\">\n",
       "  <thead>\n",
       "    <tr style=\"text-align: right;\">\n",
       "      <th></th>\n",
       "      <th>Unnamed: 0</th>\n",
       "      <th>DDI_ID</th>\n",
       "      <th>DDI_file</th>\n",
       "      <th>skin_tone</th>\n",
       "      <th>malignant</th>\n",
       "      <th>disease</th>\n",
       "    </tr>\n",
       "  </thead>\n",
       "  <tbody>\n",
       "    <tr>\n",
       "      <th>651</th>\n",
       "      <td>651</td>\n",
       "      <td>652</td>\n",
       "      <td>000652.png</td>\n",
       "      <td>34</td>\n",
       "      <td>0</td>\n",
       "      <td>pyogenic-granuloma</td>\n",
       "    </tr>\n",
       "    <tr>\n",
       "      <th>652</th>\n",
       "      <td>652</td>\n",
       "      <td>653</td>\n",
       "      <td>000653.png</td>\n",
       "      <td>34</td>\n",
       "      <td>0</td>\n",
       "      <td>melanocytic-nevi</td>\n",
       "    </tr>\n",
       "    <tr>\n",
       "      <th>653</th>\n",
       "      <td>653</td>\n",
       "      <td>654</td>\n",
       "      <td>000654.png</td>\n",
       "      <td>34</td>\n",
       "      <td>0</td>\n",
       "      <td>acral-melanotic-macule</td>\n",
       "    </tr>\n",
       "    <tr>\n",
       "      <th>654</th>\n",
       "      <td>654</td>\n",
       "      <td>655</td>\n",
       "      <td>000655.png</td>\n",
       "      <td>34</td>\n",
       "      <td>1</td>\n",
       "      <td>squamous-cell-carcinoma</td>\n",
       "    </tr>\n",
       "    <tr>\n",
       "      <th>655</th>\n",
       "      <td>655</td>\n",
       "      <td>656</td>\n",
       "      <td>000656.png</td>\n",
       "      <td>34</td>\n",
       "      <td>1</td>\n",
       "      <td>basal-cell-carcinoma</td>\n",
       "    </tr>\n",
       "  </tbody>\n",
       "</table>\n",
       "</div>"
      ],
      "text/plain": [
       "     Unnamed: 0  DDI_ID    DDI_file  skin_tone  malignant  \\\n",
       "651         651     652  000652.png         34          0   \n",
       "652         652     653  000653.png         34          0   \n",
       "653         653     654  000654.png         34          0   \n",
       "654         654     655  000655.png         34          1   \n",
       "655         655     656  000656.png         34          1   \n",
       "\n",
       "                     disease  \n",
       "651       pyogenic-granuloma  \n",
       "652         melanocytic-nevi  \n",
       "653   acral-melanotic-macule  \n",
       "654  squamous-cell-carcinoma  \n",
       "655     basal-cell-carcinoma  "
      ]
     },
     "execution_count": 5,
     "metadata": {},
     "output_type": "execute_result"
    }
   ],
   "source": [
    "# Convert 'malignant' column to integer type\n",
    "metadata['malignant'] = metadata['malignant'].astype(int)\n",
    "metadata.tail()"
   ]
  },
  {
   "cell_type": "markdown",
   "id": "214525ac",
   "metadata": {},
   "source": [
    "## Store Metadata\n",
    "\n",
    "The updated CSV will be stored in the data directory, ensuring consistency across our workflow. This version of the metadata will be used for model training, evaluation, and any further analysis."
   ]
  },
  {
   "cell_type": "code",
   "execution_count": 6,
   "id": "97fef045",
   "metadata": {},
   "outputs": [],
   "source": [
    "# Check if the directory exists, if not create it\n",
    "if not os.path.exists('../data'):\n",
    "    os.makedirs('../data')\n",
    "\n",
    "# Store the update metadata in new CSV file\n",
    "new_metadata_path = os.path.join(os.getcwd(), '../data/metadata_updated.csv')\n",
    "metadata.to_csv(new_metadata_path, index=False)"
   ]
  }
 ],
 "metadata": {
  "kernelspec": {
   "display_name": "Python (thesis-env)",
   "language": "python",
   "name": "thesis-env"
  },
  "language_info": {
   "codemirror_mode": {
    "name": "ipython",
    "version": 3
   },
   "file_extension": ".py",
   "mimetype": "text/x-python",
   "name": "python",
   "nbconvert_exporter": "python",
   "pygments_lexer": "ipython3",
   "version": "3.9.6"
  }
 },
 "nbformat": 4,
 "nbformat_minor": 5
}
